{
  "nbformat": 4,
  "nbformat_minor": 0,
  "metadata": {
    "colab": {
      "provenance": []
    },
    "kernelspec": {
      "name": "python3",
      "display_name": "Python 3"
    },
    "language_info": {
      "name": "python"
    }
  },
  "cells": [
    {
      "cell_type": "markdown",
      "source": [
        "# Data Toolkit Assignment:"
      ],
      "metadata": {
        "id": "K_nt7dWqMpOj"
      }
    },
    {
      "cell_type": "markdown",
      "source": [
        "1. What is NumPy, and why is it widely used in Python?\n",
        "\n",
        "**Assignment:** NumPy is a fundamental Python library for numerical computing. It's widely used because it provides high-performance multidimensional array objects and a vast collection of functions to operate on these arrays, which are significantly faster and more memory-efficient than standard Python lists.\n",
        "\n",
        "* What is NumPy?\n",
        "\n",
        "NumPy, short for Numerical Python, is the foundational package for scientific computing in Python. The core of NumPy is its ndarray (n-dimensional array) object. This array is a grid of values, all of the same type, indexed by a tuple of non-negative integers. This data structure allows for efficient storage and manipulation of large datasets.\n",
        "\n",
        "* Why is NumPy Widely Used?\n",
        "\n",
        "NumPy's widespread adoption is due to several key advantages:\n",
        "\n",
        "I. Performance: NumPy's core array operations are implemented in C and Fortran. This means that numerical computations are performed at speeds close to native machine code, making them orders of magnitude faster than iterating over standard Python lists.\n",
        "\n",
        "II. Memory Efficiency: NumPy arrays store data in a contiguous block of memory. This is a more compact way to store data than Python lists, which store pointers to objects scattered throughout memory. This makes NumPy arrays very efficient for large datasets.\n",
        "\n",
        "III.Vectorization: NumPy's array-oriented operations, known as vectorization, eliminate the need for explicit loops. Instead of writing a for loop to perform an operation on each element of an array, you can apply the operation to the entire array at once. This makes code more concise, readable, and faster. For example, to add two arrays a and b, you can simply write a + b, which is much cleaner than looping through each element.\n",
        "\n",
        "IV. Ecosystem Integration: NumPy serves as the backbone for a large part of the Python data science and machine learning ecosystem. Libraries like Pandas, SciPy, Matplotlib, and scikit-learn are built on top of or heavily rely on NumPy arrays. Its consistent data structure allows these libraries to work together seamlessly.\n",
        "\n",
        "V. Mathematical Operations: NumPy provides a comprehensive set of mathematical functions and linear algebra routines. This includes everything from basic arithmetic operations to more complex functions like Fourier transforms, and matrix multiplications."
      ],
      "metadata": {
        "id": "VDLqcBkxMvl1"
      }
    },
    {
      "cell_type": "markdown",
      "source": [
        "2.  How does broadcasting work in NumPy?\n",
        "\n",
        "**ANSWER:** Broadcasting in NumPy is a powerful mechanism that allows arithmetic operations on arrays of different shapes without creating duplicate copies of the data. Essentially, it describes how NumPy treats arrays with different dimensions during arithmetic operations. When the arrays have compatible shapes, broadcasting ensures the operation is performed element-wise, but when they don't, it virtually \"stretches\" the smaller array to match the shape of the larger one.\n",
        "\n",
        "* Broadcasting Rules:\n",
        "\n",
        "For two arrays to be \"broadcastable,\" their dimensions must be compatible. This compatibility can be determined by following a set of rules:\n",
        "\n",
        "i. Equal Dimensions: If the arrays have the same number of dimensions, they are compatible if the length of each dimension is either equal or one of them is 1.\n",
        "\n",
        "ii. Unequal Dimensions: If the arrays have a different number of dimensions, the shape of the array with fewer dimensions is \"padded\" with ones on its left side until it has the same number of dimensions as the larger array. After padding, the same rule as above (equal length or one is 1) applies to each dimension.\n",
        "\n",
        "iii. Incompatible Dimensions: If at any point the dimension lengths are not equal and neither is 1, a ValueError is raised, and the operation cannot be performed.\n",
        "\n",
        "* A simple example:\n",
        "\n",
        "Consider adding a scalar (a single number) to a NumPy array. A scalar is considered an array with a shape of (1,).\n",
        "\n",
        "For example, if you have an array A with shape (3, 4) and a scalar b with shape (1,), NumPy will broadcast b to a shape of (3, 4) by creating a virtual array where every element is the value of b.\n",
        "\n",
        "Here's how it works with two arrays of different shapes:\n",
        "\n",
        "Array A: (3, 1)\n",
        "\n",
        "Array B: (1, 4)\n",
        "\n",
        "The shapes are not the same, but they are broadcastable. NumPy pads the shape of B to match A, making it (1, 4). Then, it compares the dimensions from right to left:\n",
        "\n",
        "i. Dimension 1 (rightmost): A's length is 1, B's is 4. They are compatible because one is 1. NumPy \"stretches\" A along this dimension.\n",
        "\n",
        "ii. Dimension 2: A's length is 3, B's is 1. They are compatible because one is 1. NumPy \"stretches\" B along this dimension.\n",
        "\n",
        "The result is a (3, 4) array. Broadcasting allows the operation to proceed without creating a large temporary (3, 4) array in memory, making it highly memory-efficient."
      ],
      "metadata": {
        "id": "FKku2LM9NfCU"
      }
    },
    {
      "cell_type": "markdown",
      "source": [
        "3. What is a Pandas DataFrame?\n",
        "\n",
        "**ANSWER:** A Pandas DataFrame is a two-dimensional, mutable, and size-mutable tabular data structure with labeled axes (rows and columns). Think of it as a spreadsheet or an SQL table in Python. It's the most commonly used Pandas object and is highly versatile for handling and analyzing data.\n",
        "\n",
        "* Key Characteristics:\n",
        "\n",
        "I.Two-Dimensional: Data is organized in a grid with rows and columns.\n",
        "\n",
        "II. Heterogeneous Data: Each column can hold a different data type (e.g., integer, float, string, boolean), but all elements within a column must be of the same type.\n",
        "\n",
        "III. Labeled Axes: Both rows and columns have labels, which can be numbers or strings, making it easy to access and manipulate specific data.\n",
        "\n",
        "IV. Size-Mutable: You can add or remove columns and rows from a DataFrame after it has been created.\n",
        "\n",
        "V. Mutable Values: You can change the values of the elements within the DataFrame.\n",
        "\n",
        "VI. Column-Oriented: Operations are often applied to entire columns, which is efficient for data analysis.\n",
        "\n",
        "* How It's Used:\n",
        "\n",
        "DataFrames are central to data science workflows in Python. They are used for:\n",
        "\n",
        "i. Data Cleaning: Handling missing values, filtering outliers, and reformatting data.\n",
        "\n",
        "ii. Data Analysis: Performing statistical operations, aggregations, and calculations on datasets.\n",
        "\n",
        "iii. Data Visualization: Preparing data for plotting libraries like Matplotlib and Seaborn.\n",
        "\n",
        "iv. Data Loading and Storage: Reading data from various file formats like CSV, Excel, and SQL databases, and saving data to these formats.\n",
        "\n",
        "Essentially, it's the primary tool for representing and working with real-world data in a structured way within Python."
      ],
      "metadata": {
        "id": "snHM-RrLO8Ux"
      }
    },
    {
      "cell_type": "markdown",
      "source": [
        "4. Explain the use of the groupby() method in Pandas.\n",
        "\n",
        "**ANSWER:** The Pandas groupby() Method: Split-Apply-Combine:\n",
        "\n",
        "The groupby() method in the Pandas library is a fundamental tool for data analysis that allows you to perform operations on subsets of your data. The process can be broken down into three main steps, known as the \"split-apply-combine\" paradigm.\n",
        "\n",
        "I. Split:\n",
        "\n",
        "The first step is to split the data into groups based on some criterion. You can group by one or more columns in your DataFrame. This creates a DataFrameGroupBy object, which is a collection of grouped dataframes, one for each unique value in the specified column(s).\n",
        "\n",
        "II. Apply:\n",
        "\n",
        "Next, you apply a function to each of these individual groups. This function can be an aggregation function (like sum(), mean(), count(), min(), max()), a transformation (which returns a same-sized object), or a filtering operation.\n",
        "\n",
        "III. Combine:\n",
        "\n",
        "Finally, the results from the \"apply\" step are combined into a new DataFrame. The structure of this new DataFrame depends on the function that was applied in the previous step."
      ],
      "metadata": {
        "id": "rvmse4qKPtlM"
      }
    },
    {
      "cell_type": "markdown",
      "source": [
        "5.  Why is Seaborn preferred for statistical visualizations?\n",
        "\n",
        "**ANSWER:** Seaborn is the preferred library for statistical visualizations because it provides a high-level, intuitive interface that simplifies the creation of complex, aesthetically pleasing plots. While it's built on top of Matplotlib, it offers key advantages that make it a better choice for data analysis.\n",
        "\n",
        "* Key Advantages of Seaborn:\n",
        "\n",
        "i. Statistical Plotting: Seaborn is purpose-built for statistical graphics. It provides a wide array of specialized plots like violin plots, heatmaps, and pair plots that are essential for exploring data distributions and relationships. Creating these in Matplotlib would require significantly more code and effort.\n",
        "\n",
        "ii. Aesthetics and Default Styles: One of Seaborn's most notable features is its professional and visually appealing default themes and color palettes. With a single line of code, you can apply styles that make your plots look polished and ready for a presentation, which saves a lot of manual customization work often required with Matplotlib.\n",
        "\n",
        "iii. Seamless Integration with Pandas: Seaborn is designed to work seamlessly with Pandas DataFrames. You can pass an entire DataFrame to a plotting function and use column names for your variables, which is a much more natural and efficient workflow for data analysts. Matplotlib, by contrast, is a lower-level library that often requires more data manipulation before plotting.\n",
        "\n",
        "iv. Concise Syntax: Seaborn's high-level API allows you to create complex plots with minimal code. For instance, a scatter plot with a regression line can be generated with a single regplot() or lmplot() function call, whereas in Matplotlib, you would have to plot the scatter points and the regression line separately.\n",
        "\n",
        "V. Faceting for Multi-variable Analysis: Seaborn's FacetGrid and figure-level functions (like relplot, catplot) make it easy to create multiple subplots based on categorical variables. This is invaluable for comparing different subsets of your data in a single, organized figure."
      ],
      "metadata": {
        "id": "_TTbmPFdRkwT"
      }
    },
    {
      "cell_type": "markdown",
      "source": [
        "6. What are the differences between NumPy arrays and Python lists?\n",
        "\n",
        "**ANSWER:** NumPy arrays and Python lists are both used to store collections of data, but they differ significantly in their performance, functionality, and how they handle data types. NumPy arrays are the preferred choice for numerical operations due to their efficiency and specialized features, while Python lists are more versatile for general-purpose programming.\n",
        "\n",
        "* Performance and Efficiency:\n",
        "\n",
        "NumPy arrays are significantly faster and more memory-efficient than Python lists for numerical operations, especially with large datasets. This is because NumPy arrays are implemented in C and Fortran, which are lower-level languages than Python. Lists store pointers to Python objects, which are slower to access and require more memory.\n",
        "\n",
        "* Data Type Homogeneity:\n",
        "\n",
        "A key difference is that NumPy arrays are homogeneous, meaning all elements in an array must be of the same data type (e.g., all integers or all floats). This strict typing allows for more efficient storage and mathematical operations. In contrast, Python lists are heterogeneous, able to store elements of different data types (e.g., a mix of integers, strings, and other objects) within the same list.\n",
        "\n",
        "* Functionality and Operations:\n",
        "\n",
        "NumPy arrays are designed specifically for numerical computations. They provide a wide range of built-in mathematical functions and operations that can be applied to the entire array at once, a concept known as vectorization. For example, you can add two arrays together with a simple + operator. Python lists, on the other hand, require a loop to perform the same element-wise operation, which is much slower.\n",
        "\n",
        "Additionally, NumPy arrays have advanced features like broadcasting, which allows operations on arrays of different shapes, and the ability to perform multi-dimensional operations, which is crucial for working with matrices and tensors. While you can create nested lists to represent multi-dimensional data, the operations are not as intuitive or efficient as with NumPy arrays."
      ],
      "metadata": {
        "id": "Qiwmxo_QSDJj"
      }
    },
    {
      "cell_type": "markdown",
      "source": [
        "7. What is a heatmap, and when should it be used?\n",
        "\n",
        "**ANSWER:** A heatmap is a data visualization technique that uses color to represent the magnitude of individual values within a dataset. The color intensity or hue varies to show \"hot\" and \"cold\" spots, with warmer colors (like red or orange) typically indicating higher values or more activity, and cooler colors (like blue or green) representing lower values or less activity.\n",
        "\n",
        "\n",
        "Heatmaps are especially useful for visualizing large, two-dimensional datasets and quickly identifying patterns, trends, and outliers that might be hard to spot in a raw table of numbers.\n",
        "\n",
        "* When to Use a Heatmap:\n",
        "\n",
        "You should use a heatmap when you want to visually analyze the relationships between two variables and see where the data is most concentrated. Here are some common use cases:\n",
        "\n",
        "* Website Analytics: Heatmaps are widely used in web design and marketing to understand user behavior.\n",
        "\n",
        "i. Click Maps show where users are clicking, revealing which buttons, links, or images are most popular and which non-clickable elements users are trying to interact with.\n",
        "\n",
        "ii. Scroll Maps illustrate how far down a page users scroll, helping to determine if important content is placed \"above the fold\" where most people see it.\n",
        "\n",
        "iii. Mouse Movement Maps track where a user's cursor hovers, which can indicate where their attention is focused, as there is often a strong correlation between mouse movement and eye movement.\n",
        "\n",
        "* Data Analysis and Science: They're great for exploratory data analysis.\n",
        "\n",
        "i. Correlation Matrices use heatmaps to display the correlation coefficients between multiple variables. A strong positive correlation might be a hot color, while a strong negative correlation could be a cool one.\n",
        "\n",
        "\n",
        "ii. Genomics and Biology use heatmaps to visualize gene expression data, with colors showing the level of expression for different genes under various conditions.\n",
        "\n",
        "* Business and Finance: Businesses use them to analyze performance and trends.\n",
        "\n",
        "i. Sales Performance can be visualized on a heatmap to show sales volume by region and product type, helping managers identify top-performing areas at a glance.\n",
        "\n",
        "ii. Stock Market heatmaps show the performance of different stocks or market sectors, with colors indicating gains or losses.\n",
        "\n",
        "* Geospatial AnalysiS: Heatmaps can be overlaid on maps to show geographical data.\n",
        "\n",
        "i. Population Density can be shown on a map, with hot spots indicating highly populated urban areas.\n",
        "\n",
        "ii. Crime Hotspots can be visualized to show areas with a high concentration of reported crimes."
      ],
      "metadata": {
        "id": "8h3g2BpETBoX"
      }
    },
    {
      "cell_type": "markdown",
      "source": [
        "8. What does the term “vectorized operation” mean in NumPy?\n",
        "\n",
        "**ANSWER:** In NumPy, a vectorized operation is the process of applying an operation to an entire array at once, rather than iterating through its elements one by one using a Python loop. This approach leverages highly optimized, pre-compiled code written in languages like C or Fortran, which are much faster than Python.\n",
        "\n",
        "* How It Works:\n",
        "\n",
        "Python loops are inherently slow because they interpret code for each element. Vectorized operations, on the other hand, offload the looping to the underlying C implementation of NumPy. When you perform an operation like adding two arrays, NumPy doesn't run a Python for loop. Instead, it calls a low-level C function that efficiently performs the addition on the raw data blocks.\n",
        "\n",
        "This is similar to how a specialized tool can do a job faster and more efficiently than doing it by hand. The \"tool\" here is the pre-compiled C code that's built for these specific tasks.\n",
        "\n",
        "* Key Benefits:\n",
        "\n",
        "I.Performance: The primary advantage is a significant increase in speed, often by orders of magnitude, especially for large arrays. This is crucial for scientific computing and data analysis.\n",
        "\n",
        "II. Conciseness: The code becomes more readable and concise. Instead of writing a multi-line for loop, you can often accomplish the same task in a single line. For example, c = a + b is much cleaner than a loop to add corresponding elements of arrays a and b.\n",
        "\n",
        "III. Memory Efficiency: Vectorized operations can sometimes be more memory-efficient as they avoid the overhead of creating and managing a large number of temporary variables within a loop."
      ],
      "metadata": {
        "id": "8NydsgpzUN0G"
      }
    },
    {
      "cell_type": "markdown",
      "source": [
        "9. How does Matplotlib differ from Plotly?\n",
        "\n",
        "**ANSWER:** Matplotlib and Plotly are both popular Python libraries for data visualization, but they differ significantly in their approach, features, and ideal use cases.\n",
        "\n",
        "* Core Philosophy and Output:\n",
        "\n",
        "I. Matplotlib is a foundational, low-level library that gives you granular control over every element of a plot. It's designed to create static, high-quality, publication-ready visualizations, similar to how you would create plots in MATLAB. The output is typically a static image file (e.g., PNG, PDF) or an embedded plot in a notebook.\n",
        "\n",
        "II. Plotly is a high-level library built for creating interactive, web-based visualizations. It's built on top of the Plotly.js JavaScript library. This means its plots are inherently dynamic, allowing users to zoom, pan, hover for details, and toggle data series on and off directly within the browser or a Jupyter notebook."
      ],
      "metadata": {
        "id": "_chC6DB7XpiS"
      }
    },
    {
      "cell_type": "markdown",
      "source": [
        "10. What is the significance of hierarchical indexing in Pandas?\n",
        "\n",
        "**ANSWER:** Hierarchical indexing, also known as MultiIndex, is a powerful feature in the pandas library that allows you to have multiple index levels on an axis. Its primary significance is in enabling the handling and analysis of high-dimensional data in a lower-dimensional format, such as a 2D Series or DataFrame. This provides a structured and efficient way to store and manipulate complex data, which would otherwise be difficult to manage with a single index.\n",
        "\n",
        "* Key Benefits of Hierarchical Indexing:\n",
        "\n",
        "I. Structure and Organization: MultiIndex provides a clear, tree-like structure for your data, making it easier to read and understand complex relationships. For example, you can organize sales data by year, then by quarter, and then by product category, all within a single DataFrame. This is far more intuitive than trying to create unique, concatenated string keys (like '2024_Q1_Electronics').\n",
        "\n",
        "II. Data Slicing and Selection: Hierarchical indexing simplifies data selection, particularly for cross-sectional subsets. You can easily slice data at a higher level (e.g., all data for the year 2023) or a lower level (e.g., all data for the 'Electronics' category across all years). The loc and iloc indexers, along with the xs method, become highly effective tools for navigating this structured data.\n",
        "\n",
        "III. Data Reshaping and Grouping: MultiIndex is fundamental to many data reshaping operations. Functions like pivot_table, unstack, and stack are designed to work seamlessly with hierarchical indexes, allowing you to transform data from a \"long\" format to a \"wide\" format and vice versa. It also enhances groupby operations, enabling you to group data by multiple levels of the index simultaneously, which is essential for advanced aggregations and statistical analysis.\n",
        "\n",
        "IV. Memory Efficiency: By using hierarchical indexing, you can avoid storing repetitive values as columns. For instance, instead of having a 'Year' column with hundreds of '2024' entries, that information is encoded efficiently in the index. While the memory savings aren't always massive, it can be a benefit for very large datasets with many repeated categorical values.I."
      ],
      "metadata": {
        "id": "kZ2KiYkQYCcB"
      }
    },
    {
      "cell_type": "markdown",
      "source": [
        "11. What is the role of Seaborn’s pairplot() function?\n",
        "\n",
        "**ANSWER:** The pairplot() function in Seaborn is used to create a pair plot, which is a type of scatterplot matrix. It's a powerful tool for visualizing relationships between multiple variables in a dataset.\n",
        "\n",
        "* Key Role and Functionality:\n",
        "\n",
        "The primary role of pairplot() is to show the pairwise relationships between variables. It creates a grid of plots, where:\n",
        "\n",
        "i. The diagonal plots (where a variable is plotted against itself) typically show a univariate distribution plot for each variable, such as a histogram or a kernel density estimate (KDE) plot. This helps you understand the distribution and spread of each individual variable.\n",
        "\n",
        "ii. The off-diagonal plots are scatter plots of each variable against every other variable. This helps you visually inspect for correlations or patterns between different pairs of variables. For example, you can see if there's a linear relationship, a clustering of data points, or a non-linear trend.\n",
        "\n",
        "* How It's Used:\n",
        "\n",
        "You typically use pairplot() to get a quick, high-level overview of a dataset. It's often one of the first plots you'd create in the exploratory data analysis (EDA) phase of a data science project. It's especially useful for:\n",
        "\n",
        "I. Initial visual inspection: To quickly identify potential correlations or relationships that may warrant further statistical analysis.\n",
        "\n",
        "II. Checking for data issues: You can spot outliers or unusual data distributions.\n",
        "\n",
        "III. Identifying clusters: If you have a categorical variable, you can use the hue parameter to color the points and see if the clusters or relationships differ across different categories.\n",
        "\n",
        "* Example:\n",
        "\n",
        "Let's imagine you have a dataset about car features like horsepower, weight, and mpg (miles per gallon). A pairplot() would:\n",
        "\n",
        "I. Show a histogram or KDE for each of horsepower, weight, and mpg on the diagonal.\n",
        "\n",
        "II. Plot horsepower vs. weight, horsepower vs. mpg, and weight vs. mpg in scatter plots on the off-diagonal.\n",
        "\n",
        "This allows you to quickly see, for instance, that as weight increases, mpg tends to decrease, and as horsepower increases, mpg also tends to decrease."
      ],
      "metadata": {
        "id": "Cx91poyMYoYQ"
      }
    },
    {
      "cell_type": "markdown",
      "source": [
        "12. What is the purpose of the describe() function in Pandas?\n",
        "\n",
        "**ANSWER:** The describe() function in Pandas is used to generate descriptive statistics of a DataFrame or Series. It provides a quick summary of the central tendency, dispersion, and shape of the data's distribution, excluding NaN (Not a Number) values.\n",
        "\n",
        "* How It Works:\n",
        "\n",
        "For a numeric Series or DataFrame, describe() returns a summary that includes the following statistics:\n",
        "\n",
        "i. count: The number of non-null values.\n",
        "\n",
        "ii. mean: The average value.\n",
        "\n",
        "iii. std: The standard deviation, which measures the amount of variation or dispersion of a set of values.\n",
        "\n",
        "iv. min: The minimum value.\n",
        "\n",
        "v. 25%: The first quartile (25th percentile).\n",
        "\n",
        "vi. 50%: The median (50th percentile).\n",
        "\n",
        "vii. 75%: The third quartile (75th percentile).\n",
        "\n",
        "viii. max: The maximum value.\n",
        "\n",
        "For a non-numeric (object or categorical) Series or DataFrame, describe() provides a different set of statistics:\n",
        "\n",
        "I. count: The number of non-null values.\n",
        "\n",
        "II. unique: The number of distinct unique values.\n",
        "\n",
        "III. top: The most frequently occurring value.\n",
        "\n",
        "IV. freq: The frequency of the top value."
      ],
      "metadata": {
        "id": "shosaYS9LEaM"
      }
    },
    {
      "cell_type": "markdown",
      "source": [
        "13. Why is handling missing data important in Pandas?\n",
        "\n",
        "**ANSWER:** Handling missing data is crucial in Pandas because it ensures the integrity and reliability of data analysis. Failing to address missing values can lead to skewed results, incorrect statistical calculations, and misleading conclusions.\n",
        "\n",
        "* Reasons Why Handling Missing Data is Important:\n",
        "\n",
        "I.  Accuracy of Analysis:\n",
        "\n",
        "Missing data can significantly impact statistical measures. For example, calculating the average of a column that contains missing values might ignore those entries, leading to a misrepresented mean. This can cause you to draw incorrect conclusions about your dataset.\n",
        "\n",
        "II. Model Performance:\n",
        "\n",
        "Many machine learning algorithms cannot handle missing values directly. If you feed a dataset with missing data into a model, it can either crash or produce unreliable predictions. Therefore, cleaning and preparing your data by handling missing values is a crucial prerequisite for effective model training.\n",
        "\n",
        "III. Data Integrity:\n",
        "\n",
        "Missing values often arise from data entry errors, data collection issues, or simply an absence of information. Properly handling these missing values helps maintain the overall integrity and quality of your dataset, making it more suitable for a wide range of analytical tasks.\n",
        "\n",
        "IV.  Prevents Errors:\n",
        "\n",
        "Leaving missing data unaddressed can cause unexpected errors and failures when performing operations or using certain functions in Pandas. By proactively identifying and managing missing data, you can prevent these disruptions and ensure your code runs smoothly.\n",
        "\n",
        "V. Better Insights:\n",
        "\n",
        "Understanding why and how data is missing can provide valuable insights into the data collection process itself. For example, if a large percentage of a column is missing, it might indicate a problem with a sensor or a flaw in the data collection method."
      ],
      "metadata": {
        "id": "4kFZFWPqM7dU"
      }
    },
    {
      "cell_type": "markdown",
      "source": [
        "14. What are the benefits of using Plotly for data visualization?\n",
        "\n",
        "**ANSWER:** Plotly is an excellent choice for data visualization, especially for creating interactive, high-quality charts and dashboards. Its main benefits stem from its powerful features that go beyond what static libraries can offer.\n",
        "\n",
        "*  Benefits:\n",
        "\n",
        "1. Interactivity: Plotly's greatest strength is its ability to create interactive visualizations. Unlike static images, Plotly charts let users zoom, pan, hover over data points for details, and even filter data with buttons and sliders. This dynamic exploration is invaluable for discovering insights and presenting complex data in an engaging way.\n",
        "\n",
        "2. High-Quality Output: Plotly produces publication-quality graphs that are aesthetically pleasing and professional. The charts are rendered in web browsers using technologies like WebGL, which allows for fast and smooth rendering, even with large datasets. The resulting charts can be saved as interactive HTML files, making them easy to share without needing specific software.\n",
        "\n",
        "3. Versatile Chart Types: Plotly supports a vast range of chart types, from common ones like bar, line, and scatter plots to more complex and specialized visualizations. These include 3D plots, financial charts (like candlestick), heatmaps, and geographic maps (choropleth maps). This extensive library ensures you can find the right visualization for nearly any type of data.\n",
        "\n",
        "4. Language and Platform Agnostic: Plotly has APIs for multiple programming languages, including Python, R, and JavaScript. This cross-language support makes it a flexible tool for data scientists, analysts, and developers working in different environments. It also integrates seamlessly with other popular libraries like Pandas and with frameworks like Dash, which is used for building analytical web applications.\n",
        "\n",
        "5. Customization: Every aspect of a Plotly chart, from colors and fonts to axes and annotations, can be extensively customized. This level of control allows users to create visualizations that align with specific branding or design requirements, ensuring the final product is not only informative but also polished."
      ],
      "metadata": {
        "id": "YG3rGxRXNs3y"
      }
    },
    {
      "cell_type": "markdown",
      "source": [
        "15. How does NumPy handle multidimensional arrays?\n",
        "\n",
        "**ANSWER:** NumPy handles multidimensional arrays using a core data structure called the ndarray (N-dimensional array) object. This object provides a highly efficient way to store and manipulate large amounts of numerical data.\n",
        "\n",
        "* Features of ndarray:\n",
        "\n",
        "I. Homogeneous Data Type:\n",
        "\n",
        "Unlike Python lists, all elements in a NumPy array must be of the same data type (e.g., all integers, all floats). This homogeneity allows for more efficient memory storage and faster mathematical operations. The data type is specified by the dtype attribute.\n",
        "\n",
        "II. Contiguous Memory Block:\n",
        "\n",
        "The ndarray stores its data in a single, contiguous block of memory. This design is crucial for high-performance computing as it allows for fast data access and vectorization. Vectorized operations apply an operation to every element of an array without the need for explicit loops, which are significantly slower in Python.\n",
        "\n",
        "III. Metadata for Structure:\n",
        "\n",
        "The ndarray object is essentially a wrapper around this contiguous memory block. It contains metadata that defines the array's structure, including:\n",
        "\n",
        "i. shape: A tuple of integers that indicates the size of the array along each dimension. For example, a 2D array with 3 rows and 4 columns would have a shape of (3, 4).\n",
        "\n",
        "ii. dtype: The data type of the elements.\n",
        "\n",
        "iii. strides: A tuple of integers that specifies the number of bytes to skip in memory to move to the next element along each dimension. This is what allows for flexible views of the data without copying it.\n",
        "\n",
        "IV. Broadcasting:\n",
        "\n",
        "NumPy's broadcasting mechanism simplifies operations between arrays of different shapes, provided they are compatible. Instead of creating copies of the smaller array to match the shape of the larger one, NumPy's broadcasting rules extend the smaller array's dimensions \"virtually\" to perform the operation. This avoids unnecessary memory allocation and improves performance.\n",
        "\n",
        "V. Slicing and Indexing:\n",
        "\n",
        "NumPy's indexing capabilities are powerful and flexible. You can access individual elements, slices (subarrays), or entire rows and columns using a syntax similar to Python lists but extended for multiple dimensions. This allows you to select and manipulate specific parts of the array efficiently without copying the data."
      ],
      "metadata": {
        "id": "dkSiNN58R-Cx"
      }
    },
    {
      "cell_type": "markdown",
      "source": [
        "16. What is the role of Bokeh in data visualization?\n",
        "\n",
        "**ANSWER:** Bokeh is a powerful, open-source Python library used for creating interactive data visualizations for modern web browsers. Unlike traditional libraries like Matplotlib that produce static images, Bokeh's primary role is to generate plots and dashboards that are highly interactive and can be embedded directly into web pages, dashboards, and Jupyter notebooks.\n",
        "\n",
        "*  Roles and Features of Bokeh:\n",
        "\n",
        "i. Interactivity: Bokeh excels at creating non-static plots. It offers built-in interactive tools such as panning, zooming, and hover tooltips, which allow users to explore and analyze data in a dynamic way. You can also add custom widgets like sliders, dropdown menus, and buttons to manipulate the data and visualization in real time without writing any JavaScript.\n",
        "\n",
        "ii. Web Integration: A core feature of Bokeh is its ability to render plots using HTML and JavaScript. This makes it a great choice for creating web-based applications and dashboards that can handle large or streaming datasets. This capability allows data scientists and developers to create sophisticated, interactive data products that are easily shared and viewed by a wider audience.\n",
        "\n",
        "iii. Flexibility and Control: Bokeh provides different levels of interfaces to suit various users. The bokeh.plotting interface is a high-level, easy-to-use API for creating common plots, while the bokeh.models interface provides a low-level, highly flexible API that gives developers fine-grained control over every aspect of the visualization, from layouts to specific plot elements known as glyphs (e.g., circles, lines, rectangles).\n",
        "\n",
        "iv. Scalability: Bokeh is designed to handle large datasets efficiently. It can render high-performance, interactive visualizations for streaming data, making it suitable for applications like monitoring stock prices or IoT sensor data."
      ],
      "metadata": {
        "id": "eDUyMOviTI4E"
      }
    },
    {
      "cell_type": "markdown",
      "source": [
        "17.  Explain the difference between apply() and map() in Pandas.\n",
        "\n",
        "**ANSWER:** The key difference between apply() and map() in Pandas is their intended use and the objects they operate on. map() is a Series method used to substitute each value in a Series with another value, while apply() is a DataFrame method that can apply a function along an axis of the DataFrame.\n",
        "\n",
        "* The map() Method:\n",
        "\n",
        "The map() method is specifically for Pandas Series. It's used to substitute each value in a Series with a new value based on a mapping dictionary, a Series, or a function. It's highly efficient for element-wise transformations.\n",
        "\n",
        "Example:\n",
        "\n",
        "Suppose you have a Series of numbers and want to replace them with their corresponding string names."
      ],
      "metadata": {
        "id": "pFsSEfAcTrj7"
      }
    },
    {
      "cell_type": "code",
      "source": [
        "import pandas as pd\n",
        "\n",
        "s = pd.Series([1, 2, 3, 4])\n",
        "mapping_dict = {1: 'one', 2: 'two', 3: 'three'}\n",
        "s_mapped = s.map(mapping_dict)\n",
        "print(s_mapped)"
      ],
      "metadata": {
        "colab": {
          "base_uri": "https://localhost:8080/"
        },
        "id": "7kkEuFq_UViA",
        "outputId": "e724038e-f953-4bb8-f59d-5fffadc3efb1"
      },
      "execution_count": null,
      "outputs": [
        {
          "output_type": "stream",
          "name": "stdout",
          "text": [
            "0      one\n",
            "1      two\n",
            "2    three\n",
            "3      NaN\n",
            "dtype: object\n"
          ]
        }
      ]
    },
    {
      "cell_type": "markdown",
      "source": [
        "Notice how s.map() replaced the values 1, 2, and 3 with their corresponding strings from the dictionary. The value 4 was not in the dictionary, so it was replaced with NaN.\n",
        "\n",
        "* The apply() Method:\n",
        "\n",
        "The apply() method can be used on both Pandas Series and DataFrames. It is more versatile than map() but generally less performant for simple element-wise operations. When used on a DataFrame, it applies a function along an axis (rows or columns).\n",
        "\n",
        "apply() on a DataFrame:\n",
        "\n",
        "apply() can be used to apply a function to each row (axis=1) or each column (axis=0) of a DataFrame. This is useful for more complex operations that involve multiple columns for a single row, or for aggregating data in a column.\n",
        "\n",
        "Example:\n",
        "\n",
        "Imagine you have a DataFrame and want to calculate the sum of values for each row."
      ],
      "metadata": {
        "id": "VT7YKbedUaew"
      }
    },
    {
      "cell_type": "code",
      "source": [
        "import pandas as pd\n",
        "\n",
        "df = pd.DataFrame({'A': [10, 20], 'B': [30, 40]})\n",
        "df_applied = df.apply(lambda row: row['A'] + row['B'], axis=1)\n",
        "print(df_applied)"
      ],
      "metadata": {
        "colab": {
          "base_uri": "https://localhost:8080/"
        },
        "id": "IZJGwJOgUqaT",
        "outputId": "d6293909-19fe-4726-dc9d-579d034e96d0"
      },
      "execution_count": null,
      "outputs": [
        {
          "output_type": "stream",
          "name": "stdout",
          "text": [
            "0    40\n",
            "1    60\n",
            "dtype: int64\n"
          ]
        }
      ]
    },
    {
      "cell_type": "markdown",
      "source": [
        "Here, apply() iterated through each row (axis=1), passed the row as a Series to the lambda function, and the function returned the sum of the 'A' and 'B' values.\n",
        "\n",
        "apply() on a Serie:\n",
        "\n",
        "While apply() can be used on a Series, it's generally recommended to use map() for simple element-wise transformations as map() is optimized for this purpose and often faster."
      ],
      "metadata": {
        "id": "l5ariLNCUvBO"
      }
    },
    {
      "cell_type": "code",
      "source": [
        "import pandas as pd\n",
        "\n",
        "s = pd.Series([1, 2, 3])\n",
        "s_applied = s.apply(lambda x: x * 2)\n",
        "print(s_applied)"
      ],
      "metadata": {
        "colab": {
          "base_uri": "https://localhost:8080/"
        },
        "id": "dFZQWpZUUz3z",
        "outputId": "f1067ca6-8f95-4c41-d35a-cec818975291"
      },
      "execution_count": null,
      "outputs": [
        {
          "output_type": "stream",
          "name": "stdout",
          "text": [
            "0    2\n",
            "1    4\n",
            "2    6\n",
            "dtype: int64\n"
          ]
        }
      ]
    },
    {
      "cell_type": "markdown",
      "source": [
        "18. What are some advanced features of NumPy?\n",
        "\n",
        "**ANSWER:** NumPy, or Numerical Python, is a fundamental package for scientific computing in Python. While many users are familiar with its basic array creation and manipulation, some of its more advanced features include broadcasting, fancy indexing, and the use of universal functions (ufuncs). These features enable efficient and concise code for complex array operations.\n",
        "\n",
        "* Broadcasting:\n",
        "\n",
        "Broadcasting is a powerful mechanism that allows NumPy to perform element-wise operations on arrays of different shapes without creating multiple copies of data. The smaller array is \"broadcast\" across the larger array so that they have compatible shapes. This is more efficient than explicit loops and helps write cleaner code.\n",
        "\n",
        "For a broadcasting operation to be successful, the dimensions of the two arrays must be compatible. This means:\n",
        "\n",
        "i. The arrays must have the same number of dimensions, or\n",
        "\n",
        "ii. If the dimensions are different, the shape of one array must be 1 in the dimension where the other is greater than 1, or\n",
        "\n",
        "iii. The dimensions can be made compatible by adding a new axis.\n",
        "\n",
        "For example, when adding a scalar to an array, the scalar is broadcast across the entire array. Similarly, you can add a 1D array to a 2D array. The 1D array is \"stretched\" to match the dimensions of the 2D array.\n",
        "\n",
        "* Fancy Indexing:\n",
        "\n",
        "Fancy indexing is a term for indexing using an array of integers or booleans, rather than a single number or a slice. This allows you to select and modify non-contiguous elements of an array. It's often used to select rows or columns in a specific order or to extract elements based on a condition.\n",
        "\n",
        "There are two main types of fancy indexing:\n",
        "\n",
        "1. Integer Array Indexing: You can pass a NumPy array of integers to index another array. This returns a new array with the elements at the specified indices. For example, arr[[0, 2, 4]] would select the elements at indices 0, 2, and 4.\n",
        "\n",
        "2. Boolean Mask Indexing: You can use a boolean array of the same shape as your data array. This \"mask\" will select only the elements where the corresponding value in the boolean array is True. For example, arr[arr > 5] would return all elements from arr that are greater than 5.\n",
        "\n",
        "* Universal Functions (ufuncs):\n",
        "\n",
        "Ufuncs are functions that operate on NumPy arrays in an element-by-element fashion. They are essentially vectorized wrappers for simple C functions. This vectorization allows ufuncs to perform operations on entire arrays at once, without the need for explicit Python loops, which are significantly slower.\n",
        "\n",
        "Examples of ufuncs include:\n",
        "\n",
        "i. Mathematical Operations: np.add(), np.subtract(), np.sqrt(), np.log()\n",
        "\n",
        "ii. Trigonometric Functions: np.sin(), np.cos(), np.tan()\n",
        "\n",
        "iii. Comparison Operations: np.greater(), np.less(), np.equal()\n",
        "\n",
        "Ufuncs are designed to be fast and are a core reason for NumPy's performance. They also support broadcasting, making them incredibly versatile for a wide range of scientific and numerical tasks."
      ],
      "metadata": {
        "id": "fFcCEP8sU11y"
      }
    },
    {
      "cell_type": "markdown",
      "source": [
        "19.  How does Pandas simplify time series analysis?\n",
        "\n",
        "**ANSWER:** Pandas simplifies time series analysis by providing powerful data structures and tools for handling and manipulating time-stamped data. It offers built-in functionalities that make common tasks, like data alignment, resampling, and frequency conversion, much easier to perform.\n",
        "\n",
        "* Features that Simplify Time Series Analysis:\n",
        "\n",
        "Pandas is built on the NumPy library, and its core time series capabilities come from its specialized data structures. The DatetimeIndex and TimedeltaIndex are at the heart of this functionality, allowing for efficient operations on time-based data.\n",
        "\n",
        "I. DatetimeIndex: This is a core component that provides a powerful way to label and index time series data. It allows for fast and efficient lookups, slicing, and alignment based on dates and times. You can easily select data for a specific day, month, or year using intuitive syntax like df['2023'] or df['2023-01-01':'2023-01-31'].\n",
        "\n",
        "II. Handling Missing Data: Time series data often has gaps. Pandas provides robust tools for handling NaN (Not a Number) values. Functions like interpolate() can fill in missing data points using various methods (e.g., linear, polynomial), which is crucial for accurate analysis and forecasting.\n",
        "\n",
        "III. Resampling: This is one of the most powerful features for time series analysis. Resampling allows you to change the frequency of your data. You can downsample to a lower frequency (e.g., converting daily data to monthly averages) or upsample to a higher frequency (e.g., converting hourly data to a 15-minute frequency, often with interpolation). The .resample() method makes this process straightforward.\n",
        "\n",
        "IV. Frequency Conversion and Shifting: Pandas lets you easily convert time series to a different frequency and shift data points in time. The .asfreq() method converts a time series to the specified frequency, while .shift() moves data forward or backward in time, which is essential for calculating things like percent change or a moving average.\n",
        "\n",
        "V. Rolling and Expanding Windows: Analyzing data over a moving window is a fundamental technique for calculating trends and volatility. Pandas' .rolling() and .expanding() methods allow you to apply aggregate functions (e.g., mean, sum, standard deviation) over a specified period. This is essential for creating things like moving averages or rolling correlations."
      ],
      "metadata": {
        "id": "i6oGG_-Ou9ua"
      }
    },
    {
      "cell_type": "markdown",
      "source": [
        "20.  What is the role of a pivot table in Pandas?\n",
        "\n",
        "**ANSWER:** A pivot table in Pandas is a tool that summarizes and rearranges data in a spreadsheet-like format. Its primary role is to aggregate data from a DataFrame (a two-dimensional, mutable, tabular data structure in Pandas) and present it in a way that's easy to analyze. Think of it as a way to rotate your data, letting you see different aspects of it by changing which columns become rows, which become new columns, and what values are calculated in the cells.\n",
        "\n",
        "* Pivot Table Works:\n",
        "\n",
        "The .pivot_table() function in Pandas is the key to this process. It takes your raw data and allows you to specify:\n",
        "\n",
        "1. index: The column(s) that will form the new rows of your pivot table.\n",
        "\n",
        "2. columns: The column(s) that will form the new columns of your pivot table.\n",
        "\n",
        "3. values: The column(s) whose values will be aggregated and displayed in the cells of the table.\n",
        "\n",
        "4. aggfunc: The aggregation function to apply to the values. Common functions include 'mean', 'sum', 'count', 'min', and 'max'.\n",
        "\n",
        "This transformation lets you easily see relationships and patterns in your data that would be difficult to spot in the original flat DataFrame.\n",
        "\n",
        "* Practical Applications:\n",
        "\n",
        "The role of a pivot table is best understood through its applications:\n",
        "\n",
        "I. Data Aggregation: It's excellent for summarizing large datasets. For example, you can calculate the total sales for each product in each region.\n",
        "\n",
        "II. Data Analysis: It helps in identifying trends and outliers. You could use it to find the average rating for a movie genre over time or to see which store has the highest average sales per transaction.\n",
        "\n",
        "III. Reporting: It's a quick way to create structured reports. A pivot table can be used to generate a report showing the number of customers by city and age group.\n",
        "\n",
        "In essence, a pivot table simplifies the process of data exploration and makes it easier to extract meaningful insights from your data without writing complex, multi-step code."
      ],
      "metadata": {
        "id": "f1ltFo9rvofc"
      }
    },
    {
      "cell_type": "markdown",
      "source": [
        "21.  Why is NumPy’s array slicing faster than Python’s list slicing?\n",
        "\n",
        "**ANSWER:** NumPy's array slicing is faster than Python's list slicing primarily because of how NumPy arrays are stored in contiguous blocks of memory, which allows for efficient, low-level memory access.\n",
        "\n",
        "* Contiguous Memory Allocation:\n",
        "\n",
        "Python lists are dynamic arrays that can store items of different data types. They are implemented as an array of pointers to objects scattered throughout the memory. When you slice a list, Python needs to create a new list and copy the pointers to the new location. This process involves multiple memory lookups and allocations, which are computationally expensive.\n",
        "\n",
        "\n",
        "In contrast, NumPy arrays are homogeneous—they store elements of the same data type. This allows NumPy to allocate a single, continuous block of memory for the entire array. When you slice a NumPy array, it doesn't create a copy of the data. Instead, it creates a new \"view\" of the original array by simply adjusting the internal pointer and shape information. This new view refers to the same block of memory as the original array, so the operation is extremely fast as it avoids creating a new copy.\n",
        "\n",
        "* C-level Implementation:\n",
        "\n",
        "NumPy is built on top of the C programming language, which allows it to perform operations at a much lower level than Python. The slicing operations in NumPy are implemented in highly optimized C code that directly manipulates memory addresses. This bypasses the overhead associated with Python's higher-level abstractions and dynamic typing, making operations like slicing and mathematical computations significantly faster.\n",
        "\n",
        "* The \"No-Copy\" Rule:\n",
        "\n",
        "The key difference in performance boils down to the fact that Python's list slicing creates a new list (a copy), while NumPy's array slicing creates a new view (a reference). The act of creating a view is a simple and fast operation, whereas creating a copy involves allocating new memory and transferring data, which is a much more intensive process. This \"no-copy\" rule for basic slicing is the main reason for NumPy's speed advantage."
      ],
      "metadata": {
        "id": "pKe887kjw8TI"
      }
    },
    {
      "cell_type": "markdown",
      "source": [
        "22. What are some common use cases for Seaborn?\n",
        "\n",
        "**ANSWER:** Seaborn is a popular Python library for data visualization, built on top of Matplotlib. It's often used for creating beautiful and informative statistical graphics. Its main strength lies in its ability to simplify the creation of complex plots, making it a go-to tool for exploratory data analysis (EDA) and data storytelling.\n",
        "\n",
        "* Common Use Cases for Seaborn:\n",
        "\n",
        "1. Visualizing Relationships Between Variables\n",
        "\n",
        "Seaborn excels at showing how different variables relate to each other. For example, you can easily create:\n",
        "\n",
        "- Scatter plots: To visualize the relationship between two continuous variables. The scatterplot() function can also incorporate a third variable by changing the point size or color.\n",
        "\n",
        "\n",
        "- Pair plots: To create a grid of scatter plots for every combination of variables in a dataset. This is incredibly useful for a quick, high-level overview of the data. The pairplot() function is a powerful tool for this.\n",
        "\n",
        "\n",
        "- Joint plots: To display the relationship between two variables, along with their individual distributions on the margins. The jointplot() function combines a scatter plot with histograms or kernel density estimates.\n",
        "\n",
        "2. Showing Distributions of Data\n",
        "\n",
        "Understanding the distribution of a single variable is a fundamental part of EDA. Seaborn provides several ways to do this:\n",
        "\n",
        "- Histograms: To show the frequency distribution of a continuous variable. The histplot() function is a direct way to do this.\n",
        "\n",
        "\n",
        "- Kernel Density Estimates (KDEs): To visualize the probability density of a continuous variable. The kdeplot() function creates a smooth curve, which can be easier to interpret than a histogram for certain datasets.\n",
        "\n",
        "\n",
        "- Box plots: To summarize the distribution of a variable, showing its median, quartiles, and potential outliers. The boxplot() function is widely used for comparing distributions across different categories.\n",
        "\n",
        "3. Comparing Data Across Categories\n",
        "\n",
        "Seaborn simplifies the process of comparing data across different groups or categories.\n",
        "\n",
        "- Bar plots: To represent and compare the mean or count of a numerical variable across different categories. The barplot() function is a common choice for this.\n",
        "\n",
        "- Violin plots: A hybrid of a box plot and a KDE plot, showing the distribution of data for each category. It provides a more detailed view of the data's shape than a simple box plot.\n",
        "\n",
        "- Swarm plots: To show the individual data points, avoiding overlap, which is great for small to medium-sized datasets. You can combine it with a box plot or violin plot to add more context.\n",
        "\n",
        "4. Visualizing Complex Data\n",
        "\n",
        "Seaborn's strength is its ability to create complex, multi-layered plots with minimal code.\n",
        "\n",
        "- Heatmaps: To visualize a matrix of data, such as a correlation matrix. The heatmap() function uses color to represent the magnitude of the data, making it easy to spot patterns.\n",
        "\n",
        "\n",
        "- Facet grids: To create multiple plots, each showing a subset of the data. The FacetGrid object allows for creating sophisticated, multi-panel visualizations, enabling a deeper dive into the data.\n",
        "\n",
        "\n",
        "- Time-series plots: While not its primary focus, Seaborn's lineplot() can be used effectively to visualize time-series data, especially when comparing multiple time series on the same plot."
      ],
      "metadata": {
        "id": "Xtf0IQ5OxZkp"
      }
    },
    {
      "cell_type": "markdown",
      "source": [
        "# Practical Questions:"
      ],
      "metadata": {
        "id": "VafjiXjMyYcL"
      }
    },
    {
      "cell_type": "markdown",
      "source": [
        "1. How do you create a 2D NumPy array and calculate the sum of each row?\n",
        "\n",
        "**ANSWER:**"
      ],
      "metadata": {
        "id": "kbNxgl3kHnnc"
      }
    },
    {
      "cell_type": "code",
      "source": [
        "# First, import the NumPy library, which is essential for working with arrays.\n",
        "import numpy as np\n",
        "\n",
        "# Create a sample 2D NumPy array.\n",
        "# The array is a 3x4 matrix (3 rows and 4 columns).\n",
        "# You can replace the values with your own.\n",
        "my_array = np.array([\n",
        "    [1, 2, 3, 4],\n",
        "    [5, 6, 7, 8],\n",
        "    [9, 10, 11, 12]\n",
        "])\n",
        "\n",
        "# Print the original array to see its contents.\n",
        "print(\"Original 2D NumPy array:\")\n",
        "print(my_array)\n",
        "\n",
        "# To calculate the sum of each row, we use the numpy.sum() function.\n",
        "# The key is to use the 'axis' parameter.\n",
        "# axis=0 sums down the columns (calculates the sum of each column).\n",
        "# axis=1 sums across the rows (calculates the sum of each row).\n",
        "row_sums = np.sum(my_array, axis=1)\n",
        "\n",
        "# Print the resulting array of row sums.\n",
        "print(\"\\nSum of each row:\")\n",
        "print(row_sums)"
      ],
      "metadata": {
        "colab": {
          "base_uri": "https://localhost:8080/"
        },
        "id": "GaF_NuQZQ96F",
        "outputId": "c1d08aaa-562f-475a-a969-03d170ea4c1e"
      },
      "execution_count": null,
      "outputs": [
        {
          "output_type": "stream",
          "name": "stdout",
          "text": [
            "Original 2D NumPy array:\n",
            "[[ 1  2  3  4]\n",
            " [ 5  6  7  8]\n",
            " [ 9 10 11 12]]\n",
            "\n",
            "Sum of each row:\n",
            "[10 26 42]\n"
          ]
        }
      ]
    },
    {
      "cell_type": "markdown",
      "source": [
        "2.  Write a Pandas script to find the mean of a specific column in a DataFrame.\n",
        "\n",
        "**ANSWER:**"
      ],
      "metadata": {
        "id": "BcmiYBGURBvX"
      }
    },
    {
      "cell_type": "code",
      "source": [
        "import pandas as pd\n",
        "\n",
        "# 1. Create a sample DataFrame.\n",
        "# A DataFrame is a two-dimensional, size-mutable, and potentially heterogeneous tabular data structure.\n",
        "data = {\n",
        "    'Name': ['Alice', 'Bob', 'Charlie', 'David', 'Eve'],\n",
        "    'Age': [25, 30, 35, 40, 45],\n",
        "    'Score': [88, 92, 75, 80, 95]\n",
        "}\n",
        "df = pd.DataFrame(data)\n",
        "\n",
        "print(\"Original DataFrame:\")\n",
        "print(df)\n",
        "print(\"-\" * 30)\n",
        "\n",
        "# 2. Select the column you want to find the mean of.\n",
        "# You can select a column by using its name inside square brackets.\n",
        "column_name = 'Score'\n",
        "score_column = df[column_name]\n",
        "\n",
        "# 3. Calculate the mean of the selected column using the .mean() method.\n",
        "# The .mean() method is a built-in pandas function that computes the average.\n",
        "column_mean = score_column.mean()\n",
        "\n",
        "# 4. Print the result.\n",
        "print(f\"The mean of the '{column_name}' column is: {column_mean}\")"
      ],
      "metadata": {
        "colab": {
          "base_uri": "https://localhost:8080/"
        },
        "id": "SRnbCCv9RWlC",
        "outputId": "b7b593fc-a683-4d16-e44c-dbced2f2c7f0"
      },
      "execution_count": null,
      "outputs": [
        {
          "output_type": "stream",
          "name": "stdout",
          "text": [
            "Original DataFrame:\n",
            "      Name  Age  Score\n",
            "0    Alice   25     88\n",
            "1      Bob   30     92\n",
            "2  Charlie   35     75\n",
            "3    David   40     80\n",
            "4      Eve   45     95\n",
            "------------------------------\n",
            "The mean of the 'Score' column is: 86.0\n"
          ]
        }
      ]
    },
    {
      "cell_type": "markdown",
      "source": [
        "3. Create a scatter plot using Matplotlib.\n",
        "\n",
        "**ANSWER:**"
      ],
      "metadata": {
        "id": "EifqoQTfRYE4"
      }
    },
    {
      "cell_type": "code",
      "source": [
        "import matplotlib.pyplot as plt\n",
        "import numpy as np\n",
        "\n",
        "# Generate random data for the scatter plot\n",
        "np.random.seed(0)  # for reproducibility\n",
        "num_points = 50\n",
        "x_data = np.random.rand(num_points) * 10\n",
        "y_data = np.random.rand(num_points) * 20\n",
        "colors = np.random.rand(num_points)\n",
        "sizes = 100 * np.random.rand(num_points)\n",
        "\n",
        "# Create the scatter plot\n",
        "plt.figure(figsize=(8, 6)) # Set the figure size\n",
        "plt.scatter(x_data, y_data, c=colors, s=sizes, alpha=0.7, cmap='viridis')\n",
        "\n",
        "# Add labels and a title\n",
        "plt.title('Sample Scatter Plot')\n",
        "plt.xlabel('X-axis data')\n",
        "plt.ylabel('Y-axis data')\n",
        "\n",
        "# Add a color bar to show the mapping of colors\n",
        "plt.colorbar(label='Color intensity')\n",
        "\n",
        "# Add a grid for better readability\n",
        "plt.grid(True, linestyle='--', alpha=0.6)\n",
        "\n",
        "# Display the plot\n",
        "plt.show()"
      ],
      "metadata": {
        "colab": {
          "base_uri": "https://localhost:8080/",
          "height": 564
        },
        "id": "DKjEccAvR60I",
        "outputId": "e5e92d14-ecd9-4608-ef0c-b9e440afcc4b"
      },
      "execution_count": null,
      "outputs": [
        {
          "output_type": "display_data",
          "data": {
            "text/plain": [
              "<Figure size 800x600 with 2 Axes>"
            ],
            "image/png": "[encoded data removed]"
          },
          "metadata": {}
        }
      ]
    },
    {
      "cell_type": "markdown",
      "source": [
        "4. How do you calculate the correlation matrix using Seaborn and visualize it with a heatmap?\n",
        "\n",
        "**ANSWER:**"
      ],
      "metadata": {
        "id": "5y8VvsNLR_oF"
      }
    },
    {
      "cell_type": "code",
      "source": [
        "import pandas as pd\n",
        "import seaborn as sns\n",
        "import matplotlib.pyplot as plt\n",
        "\n",
        "def create_and_visualize_correlation_matrix():\n",
        "    \"\"\"\n",
        "    This function demonstrates how to create a correlation matrix and\n",
        "    visualize it as a heatmap using Pandas and Seaborn.\n",
        "    \"\"\"\n",
        "    print(\"--- Step 1: Create a sample DataFrame ---\")\n",
        "    # We'll create a sample DataFrame with some numerical data.\n",
        "    # The variables are chosen to have some degree of correlation.\n",
        "    data = {\n",
        "        'Variable_A': [10, 15, 20, 25, 30, 35, 40],\n",
        "        'Variable_B': [12, 17, 21, 26, 32, 36, 42],\n",
        "        'Variable_C': [5, 6, 8, 9, 10, 11, 13],\n",
        "        'Variable_D': [40, 35, 30, 25, 20, 15, 10]\n",
        "    }\n",
        "    df = pd.DataFrame(data)\n",
        "    print(\"Sample DataFrame:\")\n",
        "    print(df)\n",
        "    print(\"\\n\")\n",
        "\n",
        "    print(\"--- Step 2: Calculate the correlation matrix ---\")\n",
        "    # The .corr() method on a DataFrame calculates the pairwise correlation\n",
        "    # of all columns. The result is a new DataFrame representing the matrix.\n",
        "    correlation_matrix = df.corr()\n",
        "    print(\"Correlation Matrix:\")\n",
        "    print(correlation_matrix)\n",
        "    print(\"\\n\")\n",
        "\n",
        "    print(\"--- Step 3: Visualize the correlation matrix with a Seaborn heatmap ---\")\n",
        "    # Create the heatmap.\n",
        "    plt.figure(figsize=(8, 6)) # Set the figure size for better readability\n",
        "    sns.heatmap(correlation_matrix,\n",
        "                annot=True, # Display the correlation values on the heatmap\n",
        "                cmap='coolwarm', # Choose a colormap for the visual representation\n",
        "                fmt=\".2f\", # Format the numbers to two decimal places\n",
        "                linewidths=.5) # Add lines to separate the cells\n",
        "\n",
        "    # Add a title to the plot\n",
        "    plt.title('Correlation Matrix Heatmap', fontsize=16)\n",
        "\n",
        "    # Ensure the plot is laid out nicely\n",
        "    plt.tight_layout()\n",
        "\n",
        "    # Show the plot\n",
        "    plt.show()\n",
        "\n",
        "# Run the function\n",
        "if __name__ == \"__main__\":\n",
        "    create_and_visualize_correlation_matrix()"
      ],
      "metadata": {
        "colab": {
          "base_uri": "https://localhost:8080/",
          "height": 989
        },
        "id": "S1LgAoSYYL1O",
        "outputId": "dacc2714-a391-4497-b4f4-df5640911ac8"
      },
      "execution_count": null,
      "outputs": [
        {
          "output_type": "stream",
          "name": "stdout",
          "text": [
            "--- Step 1: Create a sample DataFrame ---\n",
            "Sample DataFrame:\n",
            "   Variable_A  Variable_B  Variable_C  Variable_D\n",
            "0          10          12           5          40\n",
            "1          15          17           6          35\n",
            "2          20          21           8          30\n",
            "3          25          26           9          25\n",
            "4          30          32          10          20\n",
            "5          35          36          11          15\n",
            "6          40          42          13          10\n",
            "\n",
            "\n",
            "--- Step 2: Calculate the correlation matrix ---\n",
            "Correlation Matrix:\n",
            "            Variable_A  Variable_B  Variable_C  Variable_D\n",
            "Variable_A    1.000000    0.998786    0.993884   -1.000000\n",
            "Variable_B    0.998786    1.000000    0.991884   -0.998786\n",
            "Variable_C    0.993884    0.991884    1.000000   -0.993884\n",
            "Variable_D   -1.000000   -0.998786   -0.993884    1.000000\n",
            "\n",
            "\n",
            "--- Step 3: Visualize the correlation matrix with a Seaborn heatmap ---\n"
          ]
        },
        {
          "output_type": "display_data",
          "data": {
            "text/plain": [
              "<Figure size 800x600 with 2 Axes>"
            ],
            "image/png": "[encoded data removed]"
          },
          "metadata": {}
        }
      ]
    },
    {
      "cell_type": "markdown",
      "source": [
        "5. Generate a bar plot using Plotly.\n",
        "\n",
        "**ANSWER:**"
      ],
      "metadata": {
        "id": "pJij0jjVYY3e"
      }
    },
    {
      "cell_type": "code",
      "source": [
        "import plotly.graph_objects as go\n",
        "\n",
        "def create_bar_chart():\n",
        "    \"\"\"\n",
        "    Generates a simple bar chart using Plotly.\n",
        "    The chart displays the number of fruits sold over a week.\n",
        "    \"\"\"\n",
        "    # Sample data\n",
        "    fruits = ['Apples', 'Oranges', 'Bananas', 'Grapes', 'Pears']\n",
        "    sales = [400, 350, 600, 450, 550]\n",
        "\n",
        "    # Create the bar chart trace\n",
        "    # 'x' represents the categories (fruits)\n",
        "    # 'y' represents the values (sales)\n",
        "    bar_trace = go.Bar(x=fruits, y=sales,\n",
        "                       marker_color='rgb(10, 150, 200)',\n",
        "                       text=sales,\n",
        "                       textposition='auto')\n",
        "\n",
        "    # Create the figure with the bar chart trace\n",
        "    fig = go.Figure(data=[bar_trace])\n",
        "\n",
        "    # Update the layout to add a title and axis labels\n",
        "    fig.update_layout(\n",
        "        title={\n",
        "            'text': 'Weekly Fruit Sales',\n",
        "            'y': 0.9,\n",
        "            'x': 0.5,\n",
        "            'xanchor': 'center',\n",
        "            'yanchor': 'top'\n",
        "        },\n",
        "        xaxis_title=\"Fruit Type\",\n",
        "        yaxis_title=\"Number of Units Sold\",\n",
        "        font=dict(\n",
        "            family=\"Arial, sans-serif\",\n",
        "            size=14,\n",
        "            color=\"black\"\n",
        "        )\n",
        "    )\n",
        "\n",
        "    # Display the plot\n",
        "    fig.show()\n",
        "\n",
        "if __name__ == '__main__':\n",
        "    create_bar_chart()"
      ],
      "metadata": {
        "colab": {
          "base_uri": "https://localhost:8080/",
          "height": 542
        },
        "id": "aQJT5ZROZli8",
        "outputId": "5f31dd87-e271-4806-9857-ef48206151c8"
      },
      "execution_count": null,
      "outputs": [
        {
          "output_type": "display_data",
          "data": {
            "text/html": [
              "<html>\n",
              "<head><meta charset=\"utf-8\" /></head>\n",
              "<body>\n",
              "    <div>            <script src=\"https://cdnjs.cloudflare.com/ajax/libs/mathjax/2.7.5/MathJax.js?config=TeX-AMS-MML_SVG\"></script><script type=\"text/javascript\">if (window.MathJax && window.MathJax.Hub && window.MathJax.Hub.Config) {window.MathJax.Hub.Config({SVG: {font: \"STIX-Web\"}});}</script>                <script type=\"text/javascript\">window.PlotlyConfig = {MathJaxConfig: 'local'};</script>\n",
              "        <script charset=\"utf-8\" src=\"https://cdn.plot.ly/plotly-2.35.2.min.js\"></script>                <div id=\"8d003b35-9d88-4f09-9f7c-cc43e047d520\" class=\"plotly-graph-div\" style=\"height:525px; width:100%;\"></div>            <script type=\"text/javascript\">                                    window.PLOTLYENV=window.PLOTLYENV || {};                                    if (document.getElementById(\"8d003b35-9d88-4f09-9f7c-cc43e047d520\")) {                    Plotly.newPlot(                        \"8d003b35-9d88-4f09-9f7c-cc43e047d520\",                        [{\"marker\":{\"color\":\"rgb(10, 150, 200)\"},\"text\":[\"400\",\"350\",\"600\",\"450\",\"550\"],\"textposition\":\"auto\",\"x\":[\"Apples\",\"Oranges\",\"Bananas\",\"Grapes\",\"Pears\"],\"y\":[400,350,600,450,550],\"type\":\"bar\"}],                        {\"template\":{\"data\":{\"histogram2dcontour\":[{\"type\":\"histogram2dcontour\",\"colorbar\":{\"outlinewidth\":0,\"ticks\":\"\"},\"colorscale\":[[0.0,\"#0d0887\"],[0.1111111111111111,\"#46039f\"],[0.2222222222222222,\"#7201a8\"],[0.3333333333333333,\"#9c179e\"],[0.4444444444444444,\"#bd3786\"],[0.5555555555555556,\"#d8576b\"],[0.6666666666666666,\"#ed7953\"],[0.7777777777777778,\"#fb9f3a\"],[0.8888888888888888,\"#fdca26\"],[1.0,\"#f0f921\"]]}],\"choropleth\":[{\"type\":\"choropleth\",\"colorbar\":{\"outlinewidth\":0,\"ticks\":\"\"}}],\"histogram2d\":[{\"type\":\"histogram2d\",\"colorbar\":{\"outlinewidth\":0,\"ticks\":\"\"},\"colorscale\":[[0.0,\"#0d0887\"],[0.1111111111111111,\"#46039f\"],[0.2222222222222222,\"#7201a8\"],[0.3333333333333333,\"#9c179e\"],[0.4444444444444444,\"#bd3786\"],[0.5555555555555556,\"#d8576b\"],[0.6666666666666666,\"#ed7953\"],[0.7777777777777778,\"#fb9f3a\"],[0.8888888888888888,\"#fdca26\"],[1.0,\"#f0f921\"]]}],\"heatmap\":[{\"type\":\"heatmap\",\"colorbar\":{\"outlinewidth\":0,\"ticks\":\"\"},\"colorscale\":[[0.0,\"#0d0887\"],[0.1111111111111111,\"#46039f\"],[0.2222222222222222,\"#7201a8\"],[0.3333333333333333,\"#9c179e\"],[0.4444444444444444,\"#bd3786\"],[0.5555555555555556,\"#d8576b\"],[0.6666666666666666,\"#ed7953\"],[0.7777777777777778,\"#fb9f3a\"],[0.8888888888888888,\"#fdca26\"],[1.0,\"#f0f921\"]]}],\"heatmapgl\":[{\"type\":\"heatmapgl\",\"colorbar\":{\"outlinewidth\":0,\"ticks\":\"\"},\"colorscale\":[[0.0,\"#0d0887\"],[0.1111111111111111,\"#46039f\"],[0.2222222222222222,\"#7201a8\"],[0.3333333333333333,\"#9c179e\"],[0.4444444444444444,\"#bd3786\"],[0.5555555555555556,\"#d8576b\"],[0.6666666666666666,\"#ed7953\"],[0.7777777777777778,\"#fb9f3a\"],[0.8888888888888888,\"#fdca26\"],[1.0,\"#f0f921\"]]}],\"contourcarpet\":[{\"type\":\"contourcarpet\",\"colorbar\":{\"outlinewidth\":0,\"ticks\":\"\"}}],\"contour\":[{\"type\":\"contour\",\"colorbar\":{\"outlinewidth\":0,\"ticks\":\"\"},\"colorscale\":[[0.0,\"#0d0887\"],[0.1111111111111111,\"#46039f\"],[0.2222222222222222,\"#7201a8\"],[0.3333333333333333,\"#9c179e\"],[0.4444444444444444,\"#bd3786\"],[0.5555555555555556,\"#d8576b\"],[0.6666666666666666,\"#ed7953\"],[0.7777777777777778,\"#fb9f3a\"],[0.8888888888888888,\"#fdca26\"],[1.0,\"#f0f921\"]]}],\"surface\":[{\"type\":\"surface\",\"colorbar\":{\"outlinewidth\":0,\"ticks\":\"\"},\"colorscale\":[[0.0,\"#0d0887\"],[0.1111111111111111,\"#46039f\"],[0.2222222222222222,\"#7201a8\"],[0.3333333333333333,\"#9c179e\"],[0.4444444444444444,\"#bd3786\"],[0.5555555555555556,\"#d8576b\"],[0.6666666666666666,\"#ed7953\"],[0.7777777777777778,\"#fb9f3a\"],[0.8888888888888888,\"#fdca26\"],[1.0,\"#f0f921\"]]}],\"mesh3d\":[{\"type\":\"mesh3d\",\"colorbar\":{\"outlinewidth\":0,\"ticks\":\"\"}}],\"scatter\":[{\"fillpattern\":{\"fillmode\":\"overlay\",\"size\":10,\"solidity\":0.2},\"type\":\"scatter\"}],\"parcoords\":[{\"type\":\"parcoords\",\"line\":{\"colorbar\":{\"outlinewidth\":0,\"ticks\":\"\"}}}],\"scatterpolargl\":[{\"type\":\"scatterpolargl\",\"marker\":{\"colorbar\":{\"outlinewidth\":0,\"ticks\":\"\"}}}],\"bar\":[{\"error_x\":{\"color\":\"#2a3f5f\"},\"error_y\":{\"color\":\"#2a3f5f\"},\"marker\":{\"line\":{\"color\":\"#E5ECF6\",\"width\":0.5},\"pattern\":{\"fillmode\":\"overlay\",\"size\":10,\"solidity\":0.2}},\"type\":\"bar\"}],\"scattergeo\":[{\"type\":\"scattergeo\",\"marker\":{\"colorbar\":{\"outlinewidth\":0,\"ticks\":\"\"}}}],\"scatterpolar\":[{\"type\":\"scatterpolar\",\"marker\":{\"colorbar\":{\"outlinewidth\":0,\"ticks\":\"\"}}}],\"histogram\":[{\"marker\":{\"pattern\":{\"fillmode\":\"overlay\",\"size\":10,\"solidity\":0.2}},\"type\":\"histogram\"}],\"scattergl\":[{\"type\":\"scattergl\",\"marker\":{\"colorbar\":{\"outlinewidth\":0,\"ticks\":\"\"}}}],\"scatter3d\":[{\"type\":\"scatter3d\",\"line\":{\"colorbar\":{\"outlinewidth\":0,\"ticks\":\"\"}},\"marker\":{\"colorbar\":{\"outlinewidth\":0,\"ticks\":\"\"}}}],\"scattermapbox\":[{\"type\":\"scattermapbox\",\"marker\":{\"colorbar\":{\"outlinewidth\":0,\"ticks\":\"\"}}}],\"scatterternary\":[{\"type\":\"scatterternary\",\"marker\":{\"colorbar\":{\"outlinewidth\":0,\"ticks\":\"\"}}}],\"scattercarpet\":[{\"type\":\"scattercarpet\",\"marker\":{\"colorbar\":{\"outlinewidth\":0,\"ticks\":\"\"}}}],\"carpet\":[{\"aaxis\":{\"endlinecolor\":\"#2a3f5f\",\"gridcolor\":\"white\",\"linecolor\":\"white\",\"minorgridcolor\":\"white\",\"startlinecolor\":\"#2a3f5f\"},\"baxis\":{\"endlinecolor\":\"#2a3f5f\",\"gridcolor\":\"white\",\"linecolor\":\"white\",\"minorgridcolor\":\"white\",\"startlinecolor\":\"#2a3f5f\"},\"type\":\"carpet\"}],\"table\":[{\"cells\":{\"fill\":{\"color\":\"#EBF0F8\"},\"line\":{\"color\":\"white\"}},\"header\":{\"fill\":{\"color\":\"#C8D4E3\"},\"line\":{\"color\":\"white\"}},\"type\":\"table\"}],\"barpolar\":[{\"marker\":{\"line\":{\"color\":\"#E5ECF6\",\"width\":0.5},\"pattern\":{\"fillmode\":\"overlay\",\"size\":10,\"solidity\":0.2}},\"type\":\"barpolar\"}],\"pie\":[{\"automargin\":true,\"type\":\"pie\"}]},\"layout\":{\"autotypenumbers\":\"strict\",\"colorway\":[\"#636efa\",\"#EF553B\",\"#00cc96\",\"#ab63fa\",\"#FFA15A\",\"#19d3f3\",\"#FF6692\",\"#B6E880\",\"#FF97FF\",\"#FECB52\"],\"font\":{\"color\":\"#2a3f5f\"},\"hovermode\":\"closest\",\"hoverlabel\":{\"align\":\"left\"},\"paper_bgcolor\":\"white\",\"plot_bgcolor\":\"#E5ECF6\",\"polar\":{\"bgcolor\":\"#E5ECF6\",\"angularaxis\":{\"gridcolor\":\"white\",\"linecolor\":\"white\",\"ticks\":\"\"},\"radialaxis\":{\"gridcolor\":\"white\",\"linecolor\":\"white\",\"ticks\":\"\"}},\"ternary\":{\"bgcolor\":\"#E5ECF6\",\"aaxis\":{\"gridcolor\":\"white\",\"linecolor\":\"white\",\"ticks\":\"\"},\"baxis\":{\"gridcolor\":\"white\",\"linecolor\":\"white\",\"ticks\":\"\"},\"caxis\":{\"gridcolor\":\"white\",\"linecolor\":\"white\",\"ticks\":\"\"}},\"coloraxis\":{\"colorbar\":{\"outlinewidth\":0,\"ticks\":\"\"}},\"colorscale\":{\"sequential\":[[0.0,\"#0d0887\"],[0.1111111111111111,\"#46039f\"],[0.2222222222222222,\"#7201a8\"],[0.3333333333333333,\"#9c179e\"],[0.4444444444444444,\"#bd3786\"],[0.5555555555555556,\"#d8576b\"],[0.6666666666666666,\"#ed7953\"],[0.7777777777777778,\"#fb9f3a\"],[0.8888888888888888,\"#fdca26\"],[1.0,\"#f0f921\"]],\"sequentialminus\":[[0.0,\"#0d0887\"],[0.1111111111111111,\"#46039f\"],[0.2222222222222222,\"#7201a8\"],[0.3333333333333333,\"#9c179e\"],[0.4444444444444444,\"#bd3786\"],[0.5555555555555556,\"#d8576b\"],[0.6666666666666666,\"#ed7953\"],[0.7777777777777778,\"#fb9f3a\"],[0.8888888888888888,\"#fdca26\"],[1.0,\"#f0f921\"]],\"diverging\":[[0,\"#8e0152\"],[0.1,\"#c51b7d\"],[0.2,\"#de77ae\"],[0.3,\"#f1b6da\"],[0.4,\"#fde0ef\"],[0.5,\"#f7f7f7\"],[0.6,\"#e6f5d0\"],[0.7,\"#b8e186\"],[0.8,\"#7fbc41\"],[0.9,\"#4d9221\"],[1,\"#276419\"]]},\"xaxis\":{\"gridcolor\":\"white\",\"linecolor\":\"white\",\"ticks\":\"\",\"title\":{\"standoff\":15},\"zerolinecolor\":\"white\",\"automargin\":true,\"zerolinewidth\":2},\"yaxis\":{\"gridcolor\":\"white\",\"linecolor\":\"white\",\"ticks\":\"\",\"title\":{\"standoff\":15},\"zerolinecolor\":\"white\",\"automargin\":true,\"zerolinewidth\":2},\"scene\":{\"xaxis\":{\"backgroundcolor\":\"#E5ECF6\",\"gridcolor\":\"white\",\"linecolor\":\"white\",\"showbackground\":true,\"ticks\":\"\",\"zerolinecolor\":\"white\",\"gridwidth\":2},\"yaxis\":{\"backgroundcolor\":\"#E5ECF6\",\"gridcolor\":\"white\",\"linecolor\":\"white\",\"showbackground\":true,\"ticks\":\"\",\"zerolinecolor\":\"white\",\"gridwidth\":2},\"zaxis\":{\"backgroundcolor\":\"#E5ECF6\",\"gridcolor\":\"white\",\"linecolor\":\"white\",\"showbackground\":true,\"ticks\":\"\",\"zerolinecolor\":\"white\",\"gridwidth\":2}},\"shapedefaults\":{\"line\":{\"color\":\"#2a3f5f\"}},\"annotationdefaults\":{\"arrowcolor\":\"#2a3f5f\",\"arrowhead\":0,\"arrowwidth\":1},\"geo\":{\"bgcolor\":\"white\",\"landcolor\":\"#E5ECF6\",\"subunitcolor\":\"white\",\"showland\":true,\"showlakes\":true,\"lakecolor\":\"white\"},\"title\":{\"x\":0.05},\"mapbox\":{\"style\":\"light\"}}},\"title\":{\"text\":\"Weekly Fruit Sales\",\"y\":0.9,\"x\":0.5,\"xanchor\":\"center\",\"yanchor\":\"top\"},\"font\":{\"family\":\"Arial, sans-serif\",\"size\":14,\"color\":\"black\"},\"xaxis\":{\"title\":{\"text\":\"Fruit Type\"}},\"yaxis\":{\"title\":{\"text\":\"Number of Units Sold\"}}},                        {\"responsive\": true}                    ).then(function(){\n",
              "                            \n",
              "var gd = document.getElementById('8d003b35-9d88-4f09-9f7c-cc43e047d520');\n",
              "var x = new MutationObserver(function (mutations, observer) {{\n",
              "        var display = window.getComputedStyle(gd).display;\n",
              "        if (!display || display === 'none') {{\n",
              "            console.log([gd, 'removed!']);\n",
              "            Plotly.purge(gd);\n",
              "            observer.disconnect();\n",
              "        }}\n",
              "}});\n",
              "\n",
              "// Listen for the removal of the full notebook cells\n",
              "var notebookContainer = gd.closest('#notebook-container');\n",
              "if (notebookContainer) {{\n",
              "    x.observe(notebookContainer, {childList: true});\n",
              "}}\n",
              "\n",
              "// Listen for the clearing of the current output cell\n",
              "var outputEl = gd.closest('.output');\n",
              "if (outputEl) {{\n",
              "    x.observe(outputEl, {childList: true});\n",
              "}}\n",
              "\n",
              "                        })                };                            </script>        </div>\n",
              "</body>\n",
              "</html>"
            ]
          },
          "metadata": {}
        }
      ]
    },
    {
      "cell_type": "markdown",
      "source": [
        "6.  Create a DataFrame and add a new column based on an existing column.\n",
        "\n",
        "**ANSWER:**"
      ],
      "metadata": {
        "id": "2dHd-A-JZ0jK"
      }
    },
    {
      "cell_type": "code",
      "source": [
        "import pandas as pd\n",
        "import numpy as np\n",
        "\n",
        "# 1. Create a dictionary with sample data.\n",
        "data = {\n",
        "    'Name': ['Alice', 'Bob', 'Charlie', 'David', 'Eve'],\n",
        "    'Score': [85, 92, 78, 95, 60],\n",
        "    'Attendance': [True, True, False, True, False]\n",
        "}\n",
        "\n",
        "# 2. Create the DataFrame from the dictionary.\n",
        "# A DataFrame is a 2-dimensional labeled data structure with columns\n",
        "# of potentially different types.\n",
        "df = pd.DataFrame(data)\n",
        "\n",
        "print(\"Original DataFrame:\")\n",
        "print(df)\n",
        "print(\"-\" * 30)\n",
        "\n",
        "# 3. Add a new column based on a condition of an existing column.\n",
        "# We will add a 'Result' column based on the 'Score'. If the score is 80 or higher,\n",
        "# the result is 'Pass'; otherwise, it is 'Fail'.\n",
        "\n",
        "# We can use a lambda function with the .apply() method to apply a\n",
        "# function to each element in the 'Score' column.\n",
        "df['Result'] = df['Score'].apply(lambda score: 'Pass' if score >= 80 else 'Fail')\n",
        "\n",
        "print(\"DataFrame with the new 'Result' column:\")\n",
        "print(df)\n",
        "print(\"-\" * 30)\n",
        "\n",
        "# 4. Another way to add a new column using np.where() which is more efficient\n",
        "# for simple conditional logic.\n",
        "# np.where(condition, value_if_true, value_if_false)\n",
        "df['Attendance_Status'] = np.where(df['Attendance'] == True, 'Present', 'Absent')\n",
        "\n",
        "print(\"DataFrame with the new 'Attendance_Status' column:\")\n",
        "print(df)"
      ],
      "metadata": {
        "colab": {
          "base_uri": "https://localhost:8080/"
        },
        "id": "uIjuvngqZ7-B",
        "outputId": "be3018b6-aed1-4f0f-ae2f-c296ef3786a8"
      },
      "execution_count": null,
      "outputs": [
        {
          "output_type": "stream",
          "name": "stdout",
          "text": [
            "Original DataFrame:\n",
            "      Name  Score  Attendance\n",
            "0    Alice     85        True\n",
            "1      Bob     92        True\n",
            "2  Charlie     78       False\n",
            "3    David     95        True\n",
            "4      Eve     60       False\n",
            "------------------------------\n",
            "DataFrame with the new 'Result' column:\n",
            "      Name  Score  Attendance Result\n",
            "0    Alice     85        True   Pass\n",
            "1      Bob     92        True   Pass\n",
            "2  Charlie     78       False   Fail\n",
            "3    David     95        True   Pass\n",
            "4      Eve     60       False   Fail\n",
            "------------------------------\n",
            "DataFrame with the new 'Attendance_Status' column:\n",
            "      Name  Score  Attendance Result Attendance_Status\n",
            "0    Alice     85        True   Pass           Present\n",
            "1      Bob     92        True   Pass           Present\n",
            "2  Charlie     78       False   Fail            Absent\n",
            "3    David     95        True   Pass           Present\n",
            "4      Eve     60       False   Fail            Absent\n"
          ]
        }
      ]
    },
    {
      "cell_type": "markdown",
      "source": [
        "7. Write a program to perform element-wise multiplication of two NumPy arrays.\n",
        "\n",
        "**ANSWER:**"
      ],
      "metadata": {
        "id": "0EwfT_fwaEgP"
      }
    },
    {
      "cell_type": "code",
      "source": [
        "import numpy as np\n",
        "\n",
        "# Create two NumPy arrays\n",
        "# For element-wise operations, the arrays must have the same shape.\n",
        "# We'll create two 3x3 arrays.\n",
        "array1 = np.array([[1, 2, 3],\n",
        "                   [4, 5, 6],\n",
        "                   [7, 8, 9]])\n",
        "\n",
        "array2 = np.array([[10, 20, 30],\n",
        "                   [40, 50, 60],\n",
        "                   [70, 80, 90]])\n",
        "\n",
        "print(\"Array 1:\")\n",
        "print(array1)\n",
        "print(\"\\nArray 2:\")\n",
        "print(array2)\n",
        "\n",
        "# Perform element-wise multiplication.\n",
        "# NumPy's '*' operator is overloaded to perform this operation.\n",
        "# The result is a new array where each element is the product of the\n",
        "# corresponding elements from the two input arrays.\n",
        "result_array = array1 * array2\n",
        "\n",
        "print(\"\\nResult of element-wise multiplication:\")\n",
        "print(result_array)\n",
        "\n",
        "# The same operation can also be performed using the np.multiply() function,\n",
        "# which can be more explicit.\n",
        "result_array_with_function = np.multiply(array1, array2)\n",
        "\n",
        "print(\"\\nResult using np.multiply():\")\n",
        "print(result_array_with_function)\n",
        "\n",
        "# An example with 1D arrays\n",
        "array_a = np.array([1, 2, 3, 4])\n",
        "array_b = np.array([5, 6, 7, 8])\n",
        "\n",
        "print(\"\\nArray A:\", array_a)\n",
        "print(\"Array B:\", array_b)\n",
        "print(\"Result of element-wise multiplication of 1D arrays:\", array_a * array_b)"
      ],
      "metadata": {
        "colab": {
          "base_uri": "https://localhost:8080/"
        },
        "id": "3b8P5QRaaL4y",
        "outputId": "793c8c62-fd3a-4c4c-ca09-992d67bc687b"
      },
      "execution_count": null,
      "outputs": [
        {
          "output_type": "stream",
          "name": "stdout",
          "text": [
            "Array 1:\n",
            "[[1 2 3]\n",
            " [4 5 6]\n",
            " [7 8 9]]\n",
            "\n",
            "Array 2:\n",
            "[[10 20 30]\n",
            " [40 50 60]\n",
            " [70 80 90]]\n",
            "\n",
            "Result of element-wise multiplication:\n",
            "[[ 10  40  90]\n",
            " [160 250 360]\n",
            " [490 640 810]]\n",
            "\n",
            "Result using np.multiply():\n",
            "[[ 10  40  90]\n",
            " [160 250 360]\n",
            " [490 640 810]]\n",
            "\n",
            "Array A: [1 2 3 4]\n",
            "Array B: [5 6 7 8]\n",
            "Result of element-wise multiplication of 1D arrays: [ 5 12 21 32]\n"
          ]
        }
      ]
    },
    {
      "cell_type": "markdown",
      "source": [
        "8. Create a line plot with multiple lines using Matplotlib.\n",
        "\n",
        "**ANSWER:**"
      ],
      "metadata": {
        "id": "Ypz7xJ0caV7d"
      }
    },
    {
      "cell_type": "code",
      "source": [
        "import matplotlib.pyplot as plt\n",
        "import numpy as np\n",
        "\n",
        "# Data Generation\n",
        "# Create x values using numpy for a smooth curve\n",
        "x = np.linspace(0, 10, 100)\n",
        "\n",
        "# Create three different y datasets to represent multiple lines\n",
        "y1 = np.sin(x)\n",
        "y2 = np.cos(x)\n",
        "y3 = np.sin(x) * np.cos(x)\n",
        "\n",
        "# Plotting the lines\n",
        "# Create a figure and a set of subplots\n",
        "plt.figure(figsize=(10, 6))\n",
        "\n",
        "# Plot each line with a unique color, linestyle, and label\n",
        "plt.plot(x, y1, color='blue', linestyle='-', label='y = sin(x)')\n",
        "plt.plot(x, y2, color='red', linestyle='--', label='y = cos(x)')\n",
        "plt.plot(x, y3, color='green', linestyle=':', label='y = sin(x) * cos(x)')\n",
        "\n",
        "# Adding plot elements\n",
        "plt.title('Multiple Line Plot with Matplotlib', fontsize=16)\n",
        "plt.xlabel('X-axis', fontsize=12)\n",
        "plt.ylabel('Y-axis', fontsize=12)\n",
        "plt.legend(fontsize=10) # Display the legend with the labels\n",
        "plt.grid(True) # Add a grid for better readability\n",
        "plt.show()"
      ],
      "metadata": {
        "colab": {
          "base_uri": "https://localhost:8080/",
          "height": 570
        },
        "id": "rpbhUEdIadqN",
        "outputId": "37d67cf5-5a00-46d7-f52d-3bc1e73a5862"
      },
      "execution_count": null,
      "outputs": [
        {
          "output_type": "display_data",
          "data": {
            "text/plain": [
              "<Figure size 1000x600 with 1 Axes>"
            ],
            "image/png": "[encoded data removed]"
          },
          "metadata": {}
        }
      ]
    },
    {
      "cell_type": "markdown",
      "source": [
        "9.  Generate a Pandas DataFrame and filter rows where a column value is greater than a threshold.\n",
        "\n",
        "**ANSWER:**"
      ],
      "metadata": {
        "id": "hvJKwegZakc4"
      }
    },
    {
      "cell_type": "code",
      "source": [
        "import pandas as pd\n",
        "\n",
        "# 1. Create a sample Pandas DataFrame.\n",
        "# We'll use a dictionary to define our data.\n",
        "data = {\n",
        "    'Student_Name': ['Alice', 'Bob', 'Charlie', 'David', 'Eve'],\n",
        "    'Score': [92, 78, 85, 95, 88],\n",
        "    'Subject': ['Math', 'Science', 'History', 'Math', 'Art']\n",
        "}\n",
        "\n",
        "# Create the DataFrame from the dictionary\n",
        "df = pd.DataFrame(data)\n",
        "\n",
        "# Print the original DataFrame to the console\n",
        "print(\"--- Original DataFrame ---\")\n",
        "print(df)\n",
        "print(\"\\n\" + \"=\"*30 + \"\\n\")\n",
        "\n",
        "# 2. Define a threshold for filtering.\n",
        "# We want to find students with a score greater than this value.\n",
        "score_threshold = 90\n",
        "\n",
        "# 3. Filter the DataFrame.\n",
        "# This is done using boolean indexing. We create a boolean Series\n",
        "# where each value is True if the condition is met and False otherwise.\n",
        "# Then, we use this Series to select the corresponding rows.\n",
        "filtered_df = df[df['Score'] > score_threshold]\n",
        "\n",
        "# Print the filtered DataFrame\n",
        "print(f\"--- Filtered DataFrame (Scores > {score_threshold}) ---\")\n",
        "print(filtered_df)\n",
        "\n",
        "# You can also use multiple conditions. For example, to find students with a score\n",
        "# greater than 85 AND whose subject is 'Math'.\n",
        "score_threshold_2 = 85\n",
        "subject_filter = 'Math'\n",
        "\n",
        "# Use the '&' operator for 'and' conditions and '()' to group the conditions.\n",
        "multi_filtered_df = df[(df['Score'] > score_threshold_2) & (df['Subject'] == subject_filter)]\n",
        "print(\"\\n\" + \"=\"*30 + \"\\n\")\n",
        "print(f\"--- Filtered DataFrame (Scores > {score_threshold_2} AND Subject is '{subject_filter}') ---\")\n",
        "print(multi_filtered_df)"
      ],
      "metadata": {
        "colab": {
          "base_uri": "https://localhost:8080/"
        },
        "id": "ZSpxN0Lfarhr",
        "outputId": "b8a4e22d-1d53-4933-9265-f0f3b8b8d216"
      },
      "execution_count": null,
      "outputs": [
        {
          "output_type": "stream",
          "name": "stdout",
          "text": [
            "--- Original DataFrame ---\n",
            "  Student_Name  Score  Subject\n",
            "0        Alice     92     Math\n",
            "1          Bob     78  Science\n",
            "2      Charlie     85  History\n",
            "3        David     95     Math\n",
            "4          Eve     88      Art\n",
            "\n",
            "==============================\n",
            "\n",
            "--- Filtered DataFrame (Scores > 90) ---\n",
            "  Student_Name  Score Subject\n",
            "0        Alice     92    Math\n",
            "3        David     95    Math\n",
            "\n",
            "==============================\n",
            "\n",
            "--- Filtered DataFrame (Scores > 85 AND Subject is 'Math') ---\n",
            "  Student_Name  Score Subject\n",
            "0        Alice     92    Math\n",
            "3        David     95    Math\n"
          ]
        }
      ]
    },
    {
      "cell_type": "markdown",
      "source": [
        "10. Create a histogram using Seaborn to visualize a distribution.\n",
        "\n",
        "**ANSWER:**"
      ],
      "metadata": {
        "id": "6VhF2SYTax_r"
      }
    },
    {
      "cell_type": "code",
      "source": [
        "import numpy as np\n",
        "import seaborn as sns\n",
        "import matplotlib.pyplot as plt\n",
        "\n",
        "# 1. Generate some sample data\n",
        "# Let's create a dataset with a normal distribution.\n",
        "# np.random.normal(mean, standard_deviation, size)\n",
        "data = np.random.normal(loc=0, scale=2, size=1000)\n",
        "\n",
        "# 2. Create the histogram using Seaborn\n",
        "# The sns.histplot() function is a powerful tool for visualizing distributions.\n",
        "# 'kde=True' adds a Kernel Density Estimate curve, which smooths the distribution.\n",
        "sns.set_style(\"whitegrid\") # Sets a nice background style\n",
        "plt.figure(figsize=(10, 6)) # Sets the figure size for better readability\n",
        "sns.histplot(data, bins=30, kde=True, color='skyblue')\n",
        "\n",
        "# 3. Add titles and labels for clarity\n",
        "plt.title(\"Distribution of Sample Data\", fontsize=16)\n",
        "plt.xlabel(\"Value\", fontsize=12)\n",
        "plt.ylabel(\"Frequency\", fontsize=12)\n",
        "\n",
        "# 4. Display the plot\n",
        "plt.show()"
      ],
      "metadata": {
        "colab": {
          "base_uri": "https://localhost:8080/",
          "height": 570
        },
        "id": "ew9-8-3wa36e",
        "outputId": "7cbaa76e-ab65-496b-8af0-c3bc5ce1f83e"
      },
      "execution_count": null,
      "outputs": [
        {
          "output_type": "display_data",
          "data": {
            "text/plain": [
              "<Figure size 1000x600 with 1 Axes>"
            ],
            "image/png": "[encoded data removed]"
          },
          "metadata": {}
        }
      ]
    },
    {
      "cell_type": "markdown",
      "source": [
        "11.  Perform matrix multiplication using NumPy.\n",
        "\n",
        "**ANSWER:**"
      ],
      "metadata": {
        "id": "XnC0K4IOa-sh"
      }
    },
    {
      "cell_type": "code",
      "source": [
        "import numpy as np\n",
        "\n",
        "A = np.array([[1, 2, 3],\n",
        "              [4, 5, 6]])\n",
        "\n",
        "# Matrix B has a shape of (3, 2)\n",
        "B = np.array([[7, 8],\n",
        "              [9, 10],\n",
        "              [11, 12]])\n",
        "\n",
        "print(\"Matrix A (shape:\", A.shape, \"):\")\n",
        "print(A)\n",
        "print(\"\\nMatrix B (shape:\", B.shape, \"):\")\n",
        "print(B)\n",
        "\n",
        "# --- Method 1: Using the np.dot() function ---\n",
        "# This is the traditional way to perform matrix multiplication in older NumPy versions.\n",
        "# It is still widely used and works for a variety of dot products (vector, matrix).\n",
        "result_dot = np.dot(A, B)\n",
        "\n",
        "print(\"\\n--- Result using np.dot(A, B) ---\")\n",
        "print(\"Result shape:\", result_dot.shape)\n",
        "print(result_dot)"
      ],
      "metadata": {
        "colab": {
          "base_uri": "https://localhost:8080/"
        },
        "id": "CYdRt3cjbGCK",
        "outputId": "b2493bce-a0c7-49eb-ca4c-01db72d33681"
      },
      "execution_count": null,
      "outputs": [
        {
          "output_type": "stream",
          "name": "stdout",
          "text": [
            "Matrix A (shape: (2, 3) ):\n",
            "[[1 2 3]\n",
            " [4 5 6]]\n",
            "\n",
            "Matrix B (shape: (3, 2) ):\n",
            "[[ 7  8]\n",
            " [ 9 10]\n",
            " [11 12]]\n",
            "\n",
            "--- Result using np.dot(A, B) ---\n",
            "Result shape: (2, 2)\n",
            "[[ 58  64]\n",
            " [139 154]]\n"
          ]
        }
      ]
    },
    {
      "cell_type": "markdown",
      "source": [
        "12.  Use Pandas to load a CSV file and display its first 5 rows.\n",
        "\n",
        "**ANSWER:**"
      ],
      "metadata": {
        "id": "TRf5qRYjbzLX"
      }
    },
    {
      "cell_type": "code",
      "source": [
        "import pandas as pd\n",
        "import io\n",
        "\n",
        "csv_data = \"\"\"Name,Age,City\n",
        "Alice,25,New York\n",
        "Bob,30,Los Angeles\n",
        "Charlie,35,Chicago\n",
        "David,40,Houston\n",
        "Eva,45,Phoenix\n",
        "Frank,50,Philadelphia\n",
        "Grace,55,San Antonio\n",
        "\"\"\"\n",
        "\n",
        "# Use io.StringIO to treat the string as a file\n",
        "csv_file = io.StringIO(csv_data)\n",
        "\n",
        "# Load the CSV data into a Pandas DataFrame\n",
        "# The `pd.read_csv()` function is perfect for this task.\n",
        "try:\n",
        "    df = pd.read_csv(csv_file)\n",
        "\n",
        "    # Display the first 5 rows of the DataFrame using the .head() method.\n",
        "    print(\"DataFrame successfully loaded.\")\n",
        "    print(\"\\nFirst 5 rows:\")\n",
        "    print(df.head(5))\n",
        "\n",
        "except Exception as e:\n",
        "    print(f\"An error occurred: {e}\")"
      ],
      "metadata": {
        "colab": {
          "base_uri": "https://localhost:8080/"
        },
        "id": "sNu5Hp-tb4lj",
        "outputId": "b04f5f0d-5d58-4f51-ec68-03e0054131cb"
      },
      "execution_count": null,
      "outputs": [
        {
          "output_type": "stream",
          "name": "stdout",
          "text": [
            "DataFrame successfully loaded.\n",
            "\n",
            "First 5 rows:\n",
            "      Name  Age         City\n",
            "0    Alice   25     New York\n",
            "1      Bob   30  Los Angeles\n",
            "2  Charlie   35      Chicago\n",
            "3    David   40      Houston\n",
            "4      Eva   45      Phoenix\n"
          ]
        }
      ]
    },
    {
      "cell_type": "markdown",
      "source": [
        "13. Create a 3D scatter plot using Plotly.\n",
        "\n",
        "**ANSWER:**"
      ],
      "metadata": {
        "id": "LHJB1waScD-I"
      }
    },
    {
      "cell_type": "code",
      "source": [
        "import plotly.graph_objects as go\n",
        "import numpy as np\n",
        "\n",
        "np.random.seed(1)\n",
        "num_points = 50\n",
        "\n",
        "x_data = np.random.randn(num_points)\n",
        "y_data = np.random.randn(num_points)\n",
        "z_data = np.random.randn(num_points)\n",
        "\n",
        "# Create a trace for the scatter plot.\n",
        "# The 'mode' is set to 'markers' to show individual points.\n",
        "scatter_trace = go.Scatter3d(\n",
        "    x=x_data,\n",
        "    y=y_data,\n",
        "    z=z_data,\n",
        "    mode='markers',\n",
        "    marker=dict(\n",
        "        size=5,  # Adjust the size of the markers\n",
        "        color=z_data,  # Set the marker color based on the z-data\n",
        "        colorscale='Viridis',  # Use a beautiful color scale\n",
        "        opacity=0.8,\n",
        "        line=dict(\n",
        "            color='rgba(0, 0, 0, 0.5)', # Add a slight border to the markers\n",
        "            width=1\n",
        "        )\n",
        "    )\n",
        ")\n",
        "\n",
        "# Create the layout for the plot.\n",
        "plot_layout = go.Layout(\n",
        "    margin=dict(l=0, r=0, b=0, t=0),  # Remove margins for a cleaner look\n",
        "    title=\"3D Scatter Plot\"\n",
        ")\n",
        "\n",
        "# Create the figure object, adding the scatter trace and layout.\n",
        "fig = go.Figure(data=[scatter_trace], layout=plot_layout)\n",
        "\n",
        "# Show the interactive plot. This will open it in your default web browser.\n",
        "fig.show()"
      ],
      "metadata": {
        "colab": {
          "base_uri": "https://localhost:8080/",
          "height": 542
        },
        "id": "kCWvSdOKcKQ1",
        "outputId": "585c1501-9322-411c-aeca-92ee9c805d0e"
      },
      "execution_count": null,
      "outputs": [
        {
          "output_type": "display_data",
          "data": {
            "text/html": [
              "<html>\n",
              "<head><meta charset=\"utf-8\" /></head>\n",
              "<body>\n",
              "    <div>            <script src=\"https://cdnjs.cloudflare.com/ajax/libs/mathjax/2.7.5/MathJax.js?config=TeX-AMS-MML_SVG\"></script><script type=\"text/javascript\">if (window.MathJax && window.MathJax.Hub && window.MathJax.Hub.Config) {window.MathJax.Hub.Config({SVG: {font: \"STIX-Web\"}});}</script>                <script type=\"text/javascript\">window.PlotlyConfig = {MathJaxConfig: 'local'};</script>\n",
              "        <script charset=\"utf-8\" src=\"https://cdn.plot.ly/plotly-2.35.2.min.js\"></script>                <div id=\"2ab49aec-d50f-4d22-a907-b50dd81b4a1f\" class=\"plotly-graph-div\" style=\"height:525px; width:100%;\"></div>            <script type=\"text/javascript\">                                    window.PLOTLYENV=window.PLOTLYENV || {};                                    if (document.getElementById(\"2ab49aec-d50f-4d22-a907-b50dd81b4a1f\")) {                    Plotly.newPlot(                        \"2ab49aec-d50f-4d22-a907-b50dd81b4a1f\",                        [{\"marker\":{\"color\":[-0.4471285647859982,1.2245077048054989,0.4034916417908,0.593578523237067,-1.0949118457410418,0.1693824330586681,0.7405564510962748,-0.9537006018079346,-0.26621850600362207,0.03261454669335856,-1.3731173202467557,0.31515939204229176,0.8461606475850334,-0.8595159408319863,0.35054597866410736,-1.3122834112374318,-0.038695509266051115,-1.6157723547032947,1.121417708235664,0.4089005379368278,-0.024616955875778355,-0.7751616191691596,1.2737559301587766,1.9671017492547347,-1.857981864446752,1.2361640304528203,1.6276507531489064,0.3380116965744758,-1.199268032335186,0.8633453175440216,-0.18092030207815046,-0.6039206277932573,-1.2300581356669618,0.5505374959762154,0.7928068659193477,-0.6235307296797916,0.5205763370733708,-1.1443413896231427,0.8018610318713447,0.04656729842414554,-0.18656977190734877,-0.10174587252914521,0.8688861570058679,0.7504116398650081,0.5294653243527092,0.13770120999738608,0.07782112791270591,0.6183802619985245,0.23249455917873788,0.6825514068644851],\"colorscale\":[[0.0,\"#440154\"],[0.1111111111111111,\"#482878\"],[0.2222222222222222,\"#3e4989\"],[0.3333333333333333,\"#31688e\"],[0.4444444444444444,\"#26828e\"],[0.5555555555555556,\"#1f9e89\"],[0.6666666666666666,\"#35b779\"],[0.7777777777777778,\"#6ece58\"],[0.8888888888888888,\"#b5de2b\"],[1.0,\"#fde725\"]],\"line\":{\"color\":\"rgba(0, 0, 0, 0.5)\",\"width\":1},\"opacity\":0.8,\"size\":5},\"mode\":\"markers\",\"x\":[1.6243453636632417,-0.6117564136500754,-0.5281717522634557,-1.0729686221561705,0.8654076293246785,-2.3015386968802827,1.74481176421648,-0.7612069008951028,0.31903909605709857,-0.2493703754774101,1.462107937044974,-2.060140709497654,-0.3224172040135075,-0.38405435466841564,1.1337694423354374,-1.0998912673140309,-0.17242820755043575,-0.8778584179213718,0.04221374671559283,0.5828152137158222,-1.1006191772129212,1.1447237098396141,0.9015907205927955,0.5024943389018682,0.9008559492644118,-0.6837278591743331,-0.12289022551864817,-0.9357694342590688,-0.2678880796260159,0.530355466738186,-0.691660751725309,-0.39675352685597737,-0.6871727001195994,-0.8452056414987196,-0.671246130836819,-0.01266459891890136,-1.1173103486352778,0.23441569781709215,1.6598021771098705,0.7420441605773356,-0.19183555236161492,-0.8876289640848363,-0.7471582937508376,1.6924546010277466,0.05080775477602897,-0.6369956465693534,0.19091548466746602,2.100255136478842,0.12015895248162915,0.6172031097074192],\"y\":[0.3001703199558275,-0.35224984649351865,-1.1425181980221402,-0.3493427224128775,-0.2088942333747781,0.5866231911821976,0.8389834138745049,0.9311020813035573,0.2855873252542588,0.8851411642707281,-0.7543979409966528,1.2528681552332879,0.5129298204180088,-0.29809283510271567,0.48851814653749703,-0.07557171302105573,1.131629387451427,1.5198168164221988,2.1855754065331614,-1.3964963354881377,-1.4441138054295894,-0.5044658629464512,0.16003706944783047,0.8761689211162249,0.31563494724160523,-2.022201215824003,-0.3062040126283718,0.8279746426072462,0.2300947353643834,0.7620111803120247,-0.22232814261035927,-0.20075806892999745,0.1865613909882843,0.4100516472082563,0.19829972012676975,0.11900864580745882,-0.6706622862890306,0.3775637863209194,0.12182127099143693,1.1294839079119197,1.198917879901507,0.18515641748394385,-0.3752849500901142,-0.6387304074542224,0.4234943540641129,0.07734006834855942,-0.3438536755710756,0.04359685683424694,-0.6200008439481293,0.6980320340722189],\"z\":[-0.4471285647859982,1.2245077048054989,0.4034916417908,0.593578523237067,-1.0949118457410418,0.1693824330586681,0.7405564510962748,-0.9537006018079346,-0.26621850600362207,0.03261454669335856,-1.3731173202467557,0.31515939204229176,0.8461606475850334,-0.8595159408319863,0.35054597866410736,-1.3122834112374318,-0.038695509266051115,-1.6157723547032947,1.121417708235664,0.4089005379368278,-0.024616955875778355,-0.7751616191691596,1.2737559301587766,1.9671017492547347,-1.857981864446752,1.2361640304528203,1.6276507531489064,0.3380116965744758,-1.199268032335186,0.8633453175440216,-0.18092030207815046,-0.6039206277932573,-1.2300581356669618,0.5505374959762154,0.7928068659193477,-0.6235307296797916,0.5205763370733708,-1.1443413896231427,0.8018610318713447,0.04656729842414554,-0.18656977190734877,-0.10174587252914521,0.8688861570058679,0.7504116398650081,0.5294653243527092,0.13770120999738608,0.07782112791270591,0.6183802619985245,0.23249455917873788,0.6825514068644851],\"type\":\"scatter3d\"}],                        {\"margin\":{\"b\":0,\"l\":0,\"r\":0,\"t\":0},\"title\":{\"text\":\"3D Scatter Plot\"},\"template\":{\"data\":{\"histogram2dcontour\":[{\"type\":\"histogram2dcontour\",\"colorbar\":{\"outlinewidth\":0,\"ticks\":\"\"},\"colorscale\":[[0.0,\"#0d0887\"],[0.1111111111111111,\"#46039f\"],[0.2222222222222222,\"#7201a8\"],[0.3333333333333333,\"#9c179e\"],[0.4444444444444444,\"#bd3786\"],[0.5555555555555556,\"#d8576b\"],[0.6666666666666666,\"#ed7953\"],[0.7777777777777778,\"#fb9f3a\"],[0.8888888888888888,\"#fdca26\"],[1.0,\"#f0f921\"]]}],\"choropleth\":[{\"type\":\"choropleth\",\"colorbar\":{\"outlinewidth\":0,\"ticks\":\"\"}}],\"histogram2d\":[{\"type\":\"histogram2d\",\"colorbar\":{\"outlinewidth\":0,\"ticks\":\"\"},\"colorscale\":[[0.0,\"#0d0887\"],[0.1111111111111111,\"#46039f\"],[0.2222222222222222,\"#7201a8\"],[0.3333333333333333,\"#9c179e\"],[0.4444444444444444,\"#bd3786\"],[0.5555555555555556,\"#d8576b\"],[0.6666666666666666,\"#ed7953\"],[0.7777777777777778,\"#fb9f3a\"],[0.8888888888888888,\"#fdca26\"],[1.0,\"#f0f921\"]]}],\"heatmap\":[{\"type\":\"heatmap\",\"colorbar\":{\"outlinewidth\":0,\"ticks\":\"\"},\"colorscale\":[[0.0,\"#0d0887\"],[0.1111111111111111,\"#46039f\"],[0.2222222222222222,\"#7201a8\"],[0.3333333333333333,\"#9c179e\"],[0.4444444444444444,\"#bd3786\"],[0.5555555555555556,\"#d8576b\"],[0.6666666666666666,\"#ed7953\"],[0.7777777777777778,\"#fb9f3a\"],[0.8888888888888888,\"#fdca26\"],[1.0,\"#f0f921\"]]}],\"heatmapgl\":[{\"type\":\"heatmapgl\",\"colorbar\":{\"outlinewidth\":0,\"ticks\":\"\"},\"colorscale\":[[0.0,\"#0d0887\"],[0.1111111111111111,\"#46039f\"],[0.2222222222222222,\"#7201a8\"],[0.3333333333333333,\"#9c179e\"],[0.4444444444444444,\"#bd3786\"],[0.5555555555555556,\"#d8576b\"],[0.6666666666666666,\"#ed7953\"],[0.7777777777777778,\"#fb9f3a\"],[0.8888888888888888,\"#fdca26\"],[1.0,\"#f0f921\"]]}],\"contourcarpet\":[{\"type\":\"contourcarpet\",\"colorbar\":{\"outlinewidth\":0,\"ticks\":\"\"}}],\"contour\":[{\"type\":\"contour\",\"colorbar\":{\"outlinewidth\":0,\"ticks\":\"\"},\"colorscale\":[[0.0,\"#0d0887\"],[0.1111111111111111,\"#46039f\"],[0.2222222222222222,\"#7201a8\"],[0.3333333333333333,\"#9c179e\"],[0.4444444444444444,\"#bd3786\"],[0.5555555555555556,\"#d8576b\"],[0.6666666666666666,\"#ed7953\"],[0.7777777777777778,\"#fb9f3a\"],[0.8888888888888888,\"#fdca26\"],[1.0,\"#f0f921\"]]}],\"surface\":[{\"type\":\"surface\",\"colorbar\":{\"outlinewidth\":0,\"ticks\":\"\"},\"colorscale\":[[0.0,\"#0d0887\"],[0.1111111111111111,\"#46039f\"],[0.2222222222222222,\"#7201a8\"],[0.3333333333333333,\"#9c179e\"],[0.4444444444444444,\"#bd3786\"],[0.5555555555555556,\"#d8576b\"],[0.6666666666666666,\"#ed7953\"],[0.7777777777777778,\"#fb9f3a\"],[0.8888888888888888,\"#fdca26\"],[1.0,\"#f0f921\"]]}],\"mesh3d\":[{\"type\":\"mesh3d\",\"colorbar\":{\"outlinewidth\":0,\"ticks\":\"\"}}],\"scatter\":[{\"fillpattern\":{\"fillmode\":\"overlay\",\"size\":10,\"solidity\":0.2},\"type\":\"scatter\"}],\"parcoords\":[{\"type\":\"parcoords\",\"line\":{\"colorbar\":{\"outlinewidth\":0,\"ticks\":\"\"}}}],\"scatterpolargl\":[{\"type\":\"scatterpolargl\",\"marker\":{\"colorbar\":{\"outlinewidth\":0,\"ticks\":\"\"}}}],\"bar\":[{\"error_x\":{\"color\":\"#2a3f5f\"},\"error_y\":{\"color\":\"#2a3f5f\"},\"marker\":{\"line\":{\"color\":\"#E5ECF6\",\"width\":0.5},\"pattern\":{\"fillmode\":\"overlay\",\"size\":10,\"solidity\":0.2}},\"type\":\"bar\"}],\"scattergeo\":[{\"type\":\"scattergeo\",\"marker\":{\"colorbar\":{\"outlinewidth\":0,\"ticks\":\"\"}}}],\"scatterpolar\":[{\"type\":\"scatterpolar\",\"marker\":{\"colorbar\":{\"outlinewidth\":0,\"ticks\":\"\"}}}],\"histogram\":[{\"marker\":{\"pattern\":{\"fillmode\":\"overlay\",\"size\":10,\"solidity\":0.2}},\"type\":\"histogram\"}],\"scattergl\":[{\"type\":\"scattergl\",\"marker\":{\"colorbar\":{\"outlinewidth\":0,\"ticks\":\"\"}}}],\"scatter3d\":[{\"type\":\"scatter3d\",\"line\":{\"colorbar\":{\"outlinewidth\":0,\"ticks\":\"\"}},\"marker\":{\"colorbar\":{\"outlinewidth\":0,\"ticks\":\"\"}}}],\"scattermapbox\":[{\"type\":\"scattermapbox\",\"marker\":{\"colorbar\":{\"outlinewidth\":0,\"ticks\":\"\"}}}],\"scatterternary\":[{\"type\":\"scatterternary\",\"marker\":{\"colorbar\":{\"outlinewidth\":0,\"ticks\":\"\"}}}],\"scattercarpet\":[{\"type\":\"scattercarpet\",\"marker\":{\"colorbar\":{\"outlinewidth\":0,\"ticks\":\"\"}}}],\"carpet\":[{\"aaxis\":{\"endlinecolor\":\"#2a3f5f\",\"gridcolor\":\"white\",\"linecolor\":\"white\",\"minorgridcolor\":\"white\",\"startlinecolor\":\"#2a3f5f\"},\"baxis\":{\"endlinecolor\":\"#2a3f5f\",\"gridcolor\":\"white\",\"linecolor\":\"white\",\"minorgridcolor\":\"white\",\"startlinecolor\":\"#2a3f5f\"},\"type\":\"carpet\"}],\"table\":[{\"cells\":{\"fill\":{\"color\":\"#EBF0F8\"},\"line\":{\"color\":\"white\"}},\"header\":{\"fill\":{\"color\":\"#C8D4E3\"},\"line\":{\"color\":\"white\"}},\"type\":\"table\"}],\"barpolar\":[{\"marker\":{\"line\":{\"color\":\"#E5ECF6\",\"width\":0.5},\"pattern\":{\"fillmode\":\"overlay\",\"size\":10,\"solidity\":0.2}},\"type\":\"barpolar\"}],\"pie\":[{\"automargin\":true,\"type\":\"pie\"}]},\"layout\":{\"autotypenumbers\":\"strict\",\"colorway\":[\"#636efa\",\"#EF553B\",\"#00cc96\",\"#ab63fa\",\"#FFA15A\",\"#19d3f3\",\"#FF6692\",\"#B6E880\",\"#FF97FF\",\"#FECB52\"],\"font\":{\"color\":\"#2a3f5f\"},\"hovermode\":\"closest\",\"hoverlabel\":{\"align\":\"left\"},\"paper_bgcolor\":\"white\",\"plot_bgcolor\":\"#E5ECF6\",\"polar\":{\"bgcolor\":\"#E5ECF6\",\"angularaxis\":{\"gridcolor\":\"white\",\"linecolor\":\"white\",\"ticks\":\"\"},\"radialaxis\":{\"gridcolor\":\"white\",\"linecolor\":\"white\",\"ticks\":\"\"}},\"ternary\":{\"bgcolor\":\"#E5ECF6\",\"aaxis\":{\"gridcolor\":\"white\",\"linecolor\":\"white\",\"ticks\":\"\"},\"baxis\":{\"gridcolor\":\"white\",\"linecolor\":\"white\",\"ticks\":\"\"},\"caxis\":{\"gridcolor\":\"white\",\"linecolor\":\"white\",\"ticks\":\"\"}},\"coloraxis\":{\"colorbar\":{\"outlinewidth\":0,\"ticks\":\"\"}},\"colorscale\":{\"sequential\":[[0.0,\"#0d0887\"],[0.1111111111111111,\"#46039f\"],[0.2222222222222222,\"#7201a8\"],[0.3333333333333333,\"#9c179e\"],[0.4444444444444444,\"#bd3786\"],[0.5555555555555556,\"#d8576b\"],[0.6666666666666666,\"#ed7953\"],[0.7777777777777778,\"#fb9f3a\"],[0.8888888888888888,\"#fdca26\"],[1.0,\"#f0f921\"]],\"sequentialminus\":[[0.0,\"#0d0887\"],[0.1111111111111111,\"#46039f\"],[0.2222222222222222,\"#7201a8\"],[0.3333333333333333,\"#9c179e\"],[0.4444444444444444,\"#bd3786\"],[0.5555555555555556,\"#d8576b\"],[0.6666666666666666,\"#ed7953\"],[0.7777777777777778,\"#fb9f3a\"],[0.8888888888888888,\"#fdca26\"],[1.0,\"#f0f921\"]],\"diverging\":[[0,\"#8e0152\"],[0.1,\"#c51b7d\"],[0.2,\"#de77ae\"],[0.3,\"#f1b6da\"],[0.4,\"#fde0ef\"],[0.5,\"#f7f7f7\"],[0.6,\"#e6f5d0\"],[0.7,\"#b8e186\"],[0.8,\"#7fbc41\"],[0.9,\"#4d9221\"],[1,\"#276419\"]]},\"xaxis\":{\"gridcolor\":\"white\",\"linecolor\":\"white\",\"ticks\":\"\",\"title\":{\"standoff\":15},\"zerolinecolor\":\"white\",\"automargin\":true,\"zerolinewidth\":2},\"yaxis\":{\"gridcolor\":\"white\",\"linecolor\":\"white\",\"ticks\":\"\",\"title\":{\"standoff\":15},\"zerolinecolor\":\"white\",\"automargin\":true,\"zerolinewidth\":2},\"scene\":{\"xaxis\":{\"backgroundcolor\":\"#E5ECF6\",\"gridcolor\":\"white\",\"linecolor\":\"white\",\"showbackground\":true,\"ticks\":\"\",\"zerolinecolor\":\"white\",\"gridwidth\":2},\"yaxis\":{\"backgroundcolor\":\"#E5ECF6\",\"gridcolor\":\"white\",\"linecolor\":\"white\",\"showbackground\":true,\"ticks\":\"\",\"zerolinecolor\":\"white\",\"gridwidth\":2},\"zaxis\":{\"backgroundcolor\":\"#E5ECF6\",\"gridcolor\":\"white\",\"linecolor\":\"white\",\"showbackground\":true,\"ticks\":\"\",\"zerolinecolor\":\"white\",\"gridwidth\":2}},\"shapedefaults\":{\"line\":{\"color\":\"#2a3f5f\"}},\"annotationdefaults\":{\"arrowcolor\":\"#2a3f5f\",\"arrowhead\":0,\"arrowwidth\":1},\"geo\":{\"bgcolor\":\"white\",\"landcolor\":\"#E5ECF6\",\"subunitcolor\":\"white\",\"showland\":true,\"showlakes\":true,\"lakecolor\":\"white\"},\"title\":{\"x\":0.05},\"mapbox\":{\"style\":\"light\"}}}},                        {\"responsive\": true}                    ).then(function(){\n",
              "                            \n",
              "var gd = document.getElementById('2ab49aec-d50f-4d22-a907-b50dd81b4a1f');\n",
              "var x = new MutationObserver(function (mutations, observer) {{\n",
              "        var display = window.getComputedStyle(gd).display;\n",
              "        if (!display || display === 'none') {{\n",
              "            console.log([gd, 'removed!']);\n",
              "            Plotly.purge(gd);\n",
              "            observer.disconnect();\n",
              "        }}\n",
              "}});\n",
              "\n",
              "// Listen for the removal of the full notebook cells\n",
              "var notebookContainer = gd.closest('#notebook-container');\n",
              "if (notebookContainer) {{\n",
              "    x.observe(notebookContainer, {childList: true});\n",
              "}}\n",
              "\n",
              "// Listen for the clearing of the current output cell\n",
              "var outputEl = gd.closest('.output');\n",
              "if (outputEl) {{\n",
              "    x.observe(outputEl, {childList: true});\n",
              "}}\n",
              "\n",
              "                        })                };                            </script>        </div>\n",
              "</body>\n",
              "</html>"
            ]
          },
          "metadata": {}
        }
      ]
    }
  ]
}